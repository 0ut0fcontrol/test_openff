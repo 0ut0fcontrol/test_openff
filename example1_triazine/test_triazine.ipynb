{
 "cells": [
  {
   "cell_type": "code",
   "execution_count": 1,
   "metadata": {},
   "outputs": [
    {
     "name": "stderr",
     "output_type": "stream",
     "text": [
      "Warning: Unable to load toolkit 'OpenEye Toolkit'. The Open Force Field Toolkit does not require the OpenEye Toolkits, and can use RDKit/AmberTools instead. However, if you have a valid license for the OpenEye Toolkits, consider installing them for faster performance and additional file format support: https://docs.eyesopen.com/toolkits/python/quickstart-python/linuxosx.html OpenEye offers free Toolkit licenses for academics: https://www.eyesopen.com/academic-licensing\n"
     ]
    }
   ],
   "source": [
    "# Load a molecule into the OpenFF Molecule object\n",
    "from openff.toolkit.topology import Molecule\n",
    "molecule = Molecule.from_file('triazine.sdf')\n",
    "\n",
    "# Create an OpenFF Topology object from the molecule\n",
    "from openff.toolkit.topology import Topology\n",
    "topology = Topology.from_molecules(molecule)\n",
    "\n",
    "# Load the latest OpenFF force field release: version 2.0.0, codename \"Sage\"\n",
    "from openff.toolkit.typing.engines.smirnoff import ForceField\n",
    "forcefield = ForceField('openff-2.0.0.offxml')\n",
    "\n",
    "# Create an OpenMM system representing the molecule with SMIRNOFF-applied parameters\n",
    "openmm_system = forcefield.create_openmm_system(topology)"
   ]
  },
  {
   "cell_type": "code",
   "execution_count": 2,
   "metadata": {},
   "outputs": [
    {
     "data": {
      "image/svg+xml": "<svg xmlns=\"http://www.w3.org/2000/svg\" xmlns:rdkit=\"http://www.rdkit.org/xml\" xmlns:xlink=\"http://www.w3.org/1999/xlink\" version=\"1.1\" baseProfile=\"full\" xml:space=\"preserve\" width=\"500px\" height=\"300px\" viewBox=\"0 0 500 300\">\n<!-- END OF HEADER -->\n<rect style=\"opacity:1.0;fill:#FFFFFF;stroke:none\" width=\"500.0\" height=\"300.0\" x=\"0.0\" y=\"0.0\"> </rect>\n<path class=\"bond-0 atom-0 atom-3\" d=\"M 178.8,165.1 L 178.8,198.6\" style=\"fill:none;fill-rule:evenodd;stroke:#0000FF;stroke-width:2.0px;stroke-linecap:butt;stroke-linejoin:miter;stroke-opacity:1\"/>\n<path class=\"bond-0 atom-0 atom-3\" d=\"M 178.8,198.6 L 178.8,232.2\" style=\"fill:none;fill-rule:evenodd;stroke:#000000;stroke-width:2.0px;stroke-linecap:butt;stroke-linejoin:miter;stroke-opacity:1\"/>\n<path class=\"bond-0 atom-0 atom-3\" d=\"M 193.6,175.1 L 193.6,198.6\" style=\"fill:none;fill-rule:evenodd;stroke:#0000FF;stroke-width:2.0px;stroke-linecap:butt;stroke-linejoin:miter;stroke-opacity:1\"/>\n<path class=\"bond-0 atom-0 atom-3\" d=\"M 193.6,198.6 L 193.6,222.1\" style=\"fill:none;fill-rule:evenodd;stroke:#000000;stroke-width:2.0px;stroke-linecap:butt;stroke-linejoin:miter;stroke-opacity:1\"/>\n<path class=\"bond-1 atom-0 atom-4\" d=\"M 190.8,143.0 L 220.5,125.9\" style=\"fill:none;fill-rule:evenodd;stroke:#0000FF;stroke-width:2.0px;stroke-linecap:butt;stroke-linejoin:miter;stroke-opacity:1\"/>\n<path class=\"bond-1 atom-0 atom-4\" d=\"M 220.5,125.9 L 250.1,108.8\" style=\"fill:none;fill-rule:evenodd;stroke:#000000;stroke-width:2.0px;stroke-linecap:butt;stroke-linejoin:miter;stroke-opacity:1\"/>\n<path class=\"bond-2 atom-1 atom-3\" d=\"M 238.0,266.4 L 208.4,249.3\" style=\"fill:none;fill-rule:evenodd;stroke:#0000FF;stroke-width:2.0px;stroke-linecap:butt;stroke-linejoin:miter;stroke-opacity:1\"/>\n<path class=\"bond-2 atom-1 atom-3\" d=\"M 208.4,249.3 L 178.8,232.2\" style=\"fill:none;fill-rule:evenodd;stroke:#000000;stroke-width:2.0px;stroke-linecap:butt;stroke-linejoin:miter;stroke-opacity:1\"/>\n<path class=\"bond-3 atom-1 atom-5\" d=\"M 262.0,266.5 L 291.7,249.4\" style=\"fill:none;fill-rule:evenodd;stroke:#0000FF;stroke-width:2.0px;stroke-linecap:butt;stroke-linejoin:miter;stroke-opacity:1\"/>\n<path class=\"bond-3 atom-1 atom-5\" d=\"M 291.7,249.4 L 321.3,232.3\" style=\"fill:none;fill-rule:evenodd;stroke:#000000;stroke-width:2.0px;stroke-linecap:butt;stroke-linejoin:miter;stroke-opacity:1\"/>\n<path class=\"bond-3 atom-1 atom-5\" d=\"M 263.5,248.5 L 284.3,236.5\" style=\"fill:none;fill-rule:evenodd;stroke:#0000FF;stroke-width:2.0px;stroke-linecap:butt;stroke-linejoin:miter;stroke-opacity:1\"/>\n<path class=\"bond-3 atom-1 atom-5\" d=\"M 284.3,236.5 L 305.0,224.6\" style=\"fill:none;fill-rule:evenodd;stroke:#000000;stroke-width:2.0px;stroke-linecap:butt;stroke-linejoin:miter;stroke-opacity:1\"/>\n<path class=\"bond-4 atom-2 atom-4\" d=\"M 309.4,143.1 L 279.7,125.9\" style=\"fill:none;fill-rule:evenodd;stroke:#0000FF;stroke-width:2.0px;stroke-linecap:butt;stroke-linejoin:miter;stroke-opacity:1\"/>\n<path class=\"bond-4 atom-2 atom-4\" d=\"M 279.7,125.9 L 250.1,108.8\" style=\"fill:none;fill-rule:evenodd;stroke:#000000;stroke-width:2.0px;stroke-linecap:butt;stroke-linejoin:miter;stroke-opacity:1\"/>\n<path class=\"bond-4 atom-2 atom-4\" d=\"M 293.1,150.7 L 272.3,138.7\" style=\"fill:none;fill-rule:evenodd;stroke:#0000FF;stroke-width:2.0px;stroke-linecap:butt;stroke-linejoin:miter;stroke-opacity:1\"/>\n<path class=\"bond-4 atom-2 atom-4\" d=\"M 272.3,138.7 L 251.6,126.8\" style=\"fill:none;fill-rule:evenodd;stroke:#000000;stroke-width:2.0px;stroke-linecap:butt;stroke-linejoin:miter;stroke-opacity:1\"/>\n<path class=\"bond-5 atom-2 atom-5\" d=\"M 321.4,165.2 L 321.3,198.7\" style=\"fill:none;fill-rule:evenodd;stroke:#0000FF;stroke-width:2.0px;stroke-linecap:butt;stroke-linejoin:miter;stroke-opacity:1\"/>\n<path class=\"bond-5 atom-2 atom-5\" d=\"M 321.3,198.7 L 321.3,232.3\" style=\"fill:none;fill-rule:evenodd;stroke:#000000;stroke-width:2.0px;stroke-linecap:butt;stroke-linejoin:miter;stroke-opacity:1\"/>\n<path class=\"bond-6 atom-3 atom-6\" d=\"M 178.8,232.2 L 119.8,266.2\" style=\"fill:none;fill-rule:evenodd;stroke:#000000;stroke-width:2.0px;stroke-linecap:butt;stroke-linejoin:miter;stroke-opacity:1\"/>\n<path class=\"bond-7 atom-4 atom-7\" d=\"M 250.1,108.8 L 250.2,41.7\" style=\"fill:none;fill-rule:evenodd;stroke:#000000;stroke-width:2.0px;stroke-linecap:butt;stroke-linejoin:miter;stroke-opacity:1\"/>\n<path class=\"bond-8 atom-5 atom-8\" d=\"M 321.3,232.3 L 380.2,266.4\" style=\"fill:none;fill-rule:evenodd;stroke:#000000;stroke-width:2.0px;stroke-linecap:butt;stroke-linejoin:miter;stroke-opacity:1\"/>\n<path class=\"atom-0\" d=\"M 173.0 136.8 L 181.6 150.7 Q 182.5 152.0, 183.8 154.5 Q 185.2 157.0, 185.3 157.2 L 185.3 136.8 L 188.8 136.8 L 188.8 163.0 L 185.2 163.0 L 176.0 147.8 Q 174.9 146.0, 173.7 144.0 Q 172.6 142.0, 172.3 141.3 L 172.3 163.0 L 168.9 163.0 L 168.9 136.8 L 173.0 136.8 \" fill=\"#0000FF\"/>\n<path class=\"atom-1\" d=\"M 244.2 260.3 L 252.8 274.2 Q 253.6 275.5, 255.0 278.0 Q 256.4 280.5, 256.5 280.6 L 256.5 260.3 L 259.9 260.3 L 259.9 286.5 L 256.4 286.5 L 247.1 271.3 Q 246.1 269.5, 244.9 267.5 Q 243.8 265.5, 243.5 264.8 L 243.5 286.5 L 240.1 286.5 L 240.1 260.3 L 244.2 260.3 \" fill=\"#0000FF\"/>\n<path class=\"atom-2\" d=\"M 315.6 136.9 L 324.2 150.8 Q 325.0 152.1, 326.4 154.6 Q 327.8 157.1, 327.8 157.3 L 327.8 136.9 L 331.3 136.9 L 331.3 163.1 L 327.7 163.1 L 318.5 147.9 Q 317.4 146.1, 316.3 144.1 Q 315.2 142.1, 314.8 141.4 L 314.8 163.1 L 311.4 163.1 L 311.4 136.9 L 315.6 136.9 \" fill=\"#0000FF\"/>\n<path class=\"atom-6\" d=\"M 97.2 260.2 L 100.8 260.2 L 100.8 271.3 L 114.2 271.3 L 114.2 260.2 L 117.7 260.2 L 117.7 286.4 L 114.2 286.4 L 114.2 274.3 L 100.8 274.3 L 100.8 286.4 L 97.2 286.4 L 97.2 260.2 \" fill=\"#000000\"/>\n<path class=\"atom-7\" d=\"M 239.9 13.4 L 243.5 13.4 L 243.5 24.5 L 256.9 24.5 L 256.9 13.4 L 260.5 13.4 L 260.5 39.6 L 256.9 39.6 L 256.9 27.5 L 243.5 27.5 L 243.5 39.6 L 239.9 39.6 L 239.9 13.4 \" fill=\"#000000\"/>\n<path class=\"atom-8\" d=\"M 382.3 260.4 L 385.8 260.4 L 385.8 271.5 L 399.2 271.5 L 399.2 260.4 L 402.8 260.4 L 402.8 286.6 L 399.2 286.6 L 399.2 274.5 L 385.8 274.5 L 385.8 286.6 L 382.3 286.6 L 382.3 260.4 \" fill=\"#000000\"/>\n</svg>",
      "text/plain": [
       "<IPython.core.display.SVG object>"
      ]
     },
     "metadata": {},
     "output_type": "display_data"
    }
   ],
   "source": [
    "molecule"
   ]
  },
  {
   "cell_type": "code",
   "execution_count": 3,
   "metadata": {},
   "outputs": [
    {
     "name": "stderr",
     "output_type": "stream",
     "text": [
      "Warning: importing 'simtk.openmm' is deprecated.  Import 'openmm' instead.\n"
     ]
    }
   ],
   "source": [
    "import parmed\n",
    "\n",
    "# Convert OpenMM System to a ParmEd structure.\n",
    "parmed_structure = parmed.openmm.load_topology(\n",
    "    topology.to_openmm(), openmm_system, molecule.conformers[0]\n",
    ")"
   ]
  },
  {
   "cell_type": "code",
   "execution_count": null,
   "metadata": {},
   "outputs": [],
   "source": [
    "# Export AMBER files.\n",
    "parmed_structure.save(\"system.prmtop\", overwrite=True)\n",
    "parmed_structure.save(\"system.inpcrd\", overwrite=True)\n",
    "\n",
    "# Error converting via parmed to prmtop, related to ParmEd #930 #603\n",
    "# https://github.com/openforcefield/openff-toolkit/issues/603"
   ]
  },
  {
   "cell_type": "code",
   "execution_count": 5,
   "metadata": {},
   "outputs": [],
   "source": [
    "# Export GROMACS files.\n",
    "parmed_structure.save(\"system.top\", overwrite=True)\n",
    "parmed_structure.save(\"system.pdb\", overwrite=True)"
   ]
  }
 ],
 "metadata": {
  "interpreter": {
   "hash": "768526840ada26f29ca9068928199872b08c3923818e93b20abf31826f7c189a"
  },
  "kernelspec": {
   "display_name": "Python 3.9.10 ('openff')",
   "language": "python",
   "name": "python3"
  },
  "language_info": {
   "codemirror_mode": {
    "name": "ipython",
    "version": 3
   },
   "file_extension": ".py",
   "mimetype": "text/x-python",
   "name": "python",
   "nbconvert_exporter": "python",
   "pygments_lexer": "ipython3",
   "version": "3.9.10"
  },
  "orig_nbformat": 4
 },
 "nbformat": 4,
 "nbformat_minor": 2
}
