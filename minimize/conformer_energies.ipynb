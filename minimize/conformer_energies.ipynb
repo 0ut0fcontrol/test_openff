{
 "cells": [
  {
   "cell_type": "markdown",
   "metadata": {
    "tags": []
   },
   "source": [
    "# Compute conformer energies for a small molecule\n",
    "\n",
    "This notebook illustrates reading conformers of a molecule from an SDF file and computation of vacuum conformer energies using a SMIRNOFF force field.\n",
    "\n",
    "Note that absolute vacuum potential energies can be sensitive to small changes in partial charge, for example due to using OpenEye or AmberTools to generate AM1-BCC charges. However, in our experience, _relative_ conformer energies are fairly consistent between AM1-BCC implementations.\n",
    "\n",
    "Note also that the Open Force Field Toolkit produces deterministic charges that do not depend on the input conformation of parameterized molecules. See the [FAQ](https://open-forcefield-toolkit.readthedocs.io/en/stable/faq.html#the-partial-charges-generated-by-the-toolkit-don-t-seem-to-depend-on-the-molecule-s-conformation-is-this-a-bug) for more information."
   ]
  },
  {
   "cell_type": "code",
   "execution_count": 1,
   "metadata": {},
   "outputs": [
    {
     "name": "stderr",
     "output_type": "stream",
     "text": [
      "Warning: Unable to load toolkit 'OpenEye Toolkit'. The Open Force Field Toolkit does not require the OpenEye Toolkits, and can use RDKit/AmberTools instead. However, if you have a valid license for the OpenEye Toolkits, consider installing them for faster performance and additional file format support: https://docs.eyesopen.com/toolkits/python/quickstart-python/linuxosx.html OpenEye offers free Toolkit licenses for academics: https://www.eyesopen.com/academic-licensing\n"
     ]
    }
   ],
   "source": [
    "import shutil\n",
    "\n",
    "import numpy as np\n",
    "from rdkit.Chem import rdMolAlign\n",
    "\n",
    "try:\n",
    "    import openmm\n",
    "    from openmm import unit\n",
    "except ImportError:\n",
    "    from simtk import openmm, unit\n",
    "\n",
    "from openff.toolkit.topology import Molecule, Topology\n",
    "from openff.toolkit.utils import RDKitToolkitWrapper, get_data_file_path"
   ]
  },
  {
   "cell_type": "code",
   "execution_count": 5,
   "metadata": {},
   "outputs": [
    {
     "name": "stderr",
     "output_type": "stream",
     "text": [
      "RDKit WARNING: [22:00:18] Molecule does not have explicit Hs. Consider calling AddHs()\n",
      "[22:00:18] Molecule does not have explicit Hs. Consider calling AddHs()\n"
     ]
    },
    {
     "name": "stdout",
     "output_type": "stream",
     "text": [
      "1 unique molecule(s) loaded, with 10 total conformers\n"
     ]
    }
   ],
   "source": [
    "# If using a OFF Toolkit version before 0.7.0, loading SDFs through RDKit and OpenEye may provide\n",
    "# different behavior in some cases. So, here we force loading through RDKit to ensure the correct behavior\n",
    "rdktkw = RDKitToolkitWrapper()\n",
    "\n",
    "from rdkit import Chem\n",
    "from rdkit.Chem import AllChem\n",
    "mol = AllChem.MolFromMolFile(\"smiles.smi.sdf\")\n",
    "AllChem.EmbedMultipleConfs(mol, numConfs = 10)\n",
    "writer = Chem.SDWriter('multi_confs.sdf')\n",
    "for cid in range(mol.GetNumConformers()):\n",
    "    writer.write(mol, confId=cid)\n",
    "\n",
    "\n",
    "\n",
    "# Load in the molecule and its conformers.\n",
    "# Note that all conformers of the same molecule are loaded as separate Molecule objects\n",
    "loaded_molecules = Molecule.from_file(\n",
    "    \"multi_confs.sdf\",\n",
    "    toolkit_registry=rdktkw,\n",
    ")\n",
    "\n",
    "# The logic below only works for lists of molecules, so if a\n",
    "# single molecule was loaded, cast it to list\n",
    "if type(loaded_molecules) is not list:\n",
    "    loaded_molecules = [loaded_molecules]\n",
    "\n",
    "# Collatate all conformers of the same molecule\n",
    "# NOTE: This isn't necessary if you have already loaded or created multi-conformer molecules;\n",
    "# it is just needed because our SDF reader does not automatically collapse conformers.\n",
    "molecules = [loaded_molecules[0]]\n",
    "for molecule in loaded_molecules[1:]:\n",
    "    if molecule == molecules[-1]:\n",
    "        for conformer in molecule.conformers:\n",
    "            molecules[-1].add_conformer(conformer)\n",
    "    else:\n",
    "        molecules.append(molecule)\n",
    "\n",
    "n_molecules = len(molecules)\n",
    "n_conformers = sum(mol.n_conformers for mol in molecules)\n",
    "print(f\"{n_molecules} unique molecule(s) loaded, with {n_conformers} total conformers\")"
   ]
  },
  {
   "cell_type": "code",
   "execution_count": 6,
   "metadata": {},
   "outputs": [],
   "source": [
    "# Load the openff-2.0.0 force field appropriate for vacuum calculations (without constraints)\n",
    "from openff.toolkit.typing.engines.smirnoff import ForceField\n",
    "\n",
    "forcefield = ForceField(\"openff_unconstrained-2.0.0.offxml\")"
   ]
  },
  {
   "cell_type": "code",
   "execution_count": 8,
   "metadata": {},
   "outputs": [
    {
     "name": "stdout",
     "output_type": "stream",
     "text": [
      " : 10 conformers\n",
      "Parametrizing ﻿ (may take a moment to calculate charges)\n",
      "Conformer         Initial PE        Minimized PE        RMS between initial and minimized conformer\n",
      "    1 /    10 : -192.729 kcal/mol -356.936 kcal/mol     0.753 Angstroms\n",
      "    2 /    10 : -149.574 kcal/mol -354.951 kcal/mol     0.640 Angstroms\n",
      "    3 /    10 : -233.822 kcal/mol -356.422 kcal/mol     0.681 Angstroms\n",
      "    4 /    10 : -304.743 kcal/mol -356.936 kcal/mol     0.446 Angstroms\n",
      "    5 /    10 : -210.290 kcal/mol -355.122 kcal/mol     0.846 Angstroms\n",
      "    6 /    10 : -207.358 kcal/mol -355.122 kcal/mol     0.517 Angstroms\n",
      "    7 /    10 : -304.197 kcal/mol -356.936 kcal/mol     0.518 Angstroms\n",
      "    8 /    10 : -271.845 kcal/mol -354.916 kcal/mol     0.518 Angstroms\n",
      "    9 /    10 : 8509.240 kcal/mol -355.122 kcal/mol     0.876 Angstroms\n",
      "   10 /    10 : -165.233 kcal/mol -353.543 kcal/mol     0.737 Angstroms\n"
     ]
    }
   ],
   "source": [
    "# Loop over molecules and minimize each conformer\n",
    "for molecule in molecules:\n",
    "    # If the molecule doesn't have a name, set mol.name to be the hill formula\n",
    "    if molecule.name == \"\":\n",
    "        molecule.name = Topology._networkx_to_hill_formula(molecule.to_networkx())\n",
    "    print(\"%s : %d conformers\" % (molecule.name, molecule.n_conformers))\n",
    "    # Make a temporary copy of the molecule that we can update for each minimization\n",
    "    mol_copy = Molecule(molecule)\n",
    "    # Make an OpenFF Topology so we can parameterize the system\n",
    "    off_top = molecule.to_topology()\n",
    "    print(f\"Parametrizing {molecule.name} (may take a moment to calculate charges)\")\n",
    "    system = forcefield.create_openmm_system(off_top)\n",
    "    # Use OpenMM to compute initial and minimized energy for all conformers\n",
    "    integrator = openmm.VerletIntegrator(1 * unit.femtoseconds)\n",
    "    platform = openmm.Platform.getPlatformByName(\"Reference\")\n",
    "    omm_top = off_top.to_openmm()\n",
    "    simulation = openmm.app.Simulation(omm_top, system, integrator, platform)\n",
    "\n",
    "    # Print text header\n",
    "    print(\n",
    "        \"Conformer         Initial PE        Minimized PE        RMS between initial and minimized conformer\"\n",
    "    )\n",
    "    output = [\n",
    "        [\n",
    "            \"Conformer\",\n",
    "            \"Initial PE (kcal/mol)\",\n",
    "            \"Minimized PE (kcal/mol)\",\n",
    "            \"RMS between initial and minimized conformer (Angstrom)\",\n",
    "        ]\n",
    "    ]\n",
    "    for conformer_index, conformer in enumerate(molecule.conformers):\n",
    "        simulation.context.setPositions(conformer)\n",
    "        orig_potential = simulation.context.getState(\n",
    "            getEnergy=True\n",
    "        ).getPotentialEnergy()\n",
    "        simulation.minimizeEnergy(tolerance=0.1*unit.kilojoule_per_mole) # default tolerance=10*kilojoules/mole\n",
    "        min_state = simulation.context.getState(getEnergy=True, getPositions=True)\n",
    "        min_potential = min_state.getPotentialEnergy()\n",
    "\n",
    "        # Calculate the RMSD between the initial and minimized conformer\n",
    "        min_coords = min_state.getPositions()\n",
    "        min_coords = (\n",
    "            np.array([[atom.x, atom.y, atom.z] for atom in min_coords]) * unit.nanometer\n",
    "        )\n",
    "        mol_copy._conformers = None\n",
    "        mol_copy.add_conformer(conformer)\n",
    "        mol_copy.add_conformer(min_coords)\n",
    "        rdmol = mol_copy.to_rdkit()\n",
    "        rmslist = []\n",
    "        rdMolAlign.AlignMolConformers(rdmol, RMSlist=rmslist)\n",
    "        minimization_rms = rmslist[0]\n",
    "\n",
    "        # Save the minimized conformer to file\n",
    "        mol_copy._conformers = None\n",
    "        mol_copy.add_conformer(min_coords)\n",
    "        mol_copy.to_file(\n",
    "            f\"conf{conformer_index+1}_minimized.sdf\",\n",
    "            file_format=\"sdf\",\n",
    "        )\n",
    "        print(\n",
    "            \"%5d / %5d : %8.3f kcal/mol %8.3f kcal/mol  %8.3f Angstroms\"\n",
    "            % (\n",
    "                conformer_index + 1,\n",
    "                molecule.n_conformers,\n",
    "                orig_potential / unit.kilocalories_per_mole,\n",
    "                min_potential / unit.kilocalories_per_mole,\n",
    "                minimization_rms,\n",
    "            )\n",
    "        )\n",
    "        output.append(\n",
    "            [\n",
    "                str(conformer_index + 1),\n",
    "                f\"{orig_potential/unit.kilocalories_per_mole:.3f}\",\n",
    "                f\"{min_potential/unit.kilocalories_per_mole:.3f}\",\n",
    "                f\"{minimization_rms:.3f}\",\n",
    "            ]\n",
    "        )\n",
    "    # Write the results out to CSV\n",
    "    with open(f\"energy.csv\", \"w\") as of:\n",
    "        for line in output:\n",
    "            of.write(\",\".join(line) + \"\\n\")\n",
    "    # Clean up OpenMM Simulation\n",
    "    del simulation, integrator"
   ]
  },
  {
   "cell_type": "code",
   "execution_count": null,
   "metadata": {},
   "outputs": [],
   "source": []
  }
 ],
 "metadata": {
  "kernelspec": {
   "display_name": "Python 3",
   "language": "python",
   "name": "python3"
  },
  "language_info": {
   "codemirror_mode": {
    "name": "ipython",
    "version": 3
   },
   "file_extension": ".py",
   "mimetype": "text/x-python",
   "name": "python",
   "nbconvert_exporter": "python",
   "pygments_lexer": "ipython3",
   "version": "3.9.10"
  }
 },
 "nbformat": 4,
 "nbformat_minor": 4
}
