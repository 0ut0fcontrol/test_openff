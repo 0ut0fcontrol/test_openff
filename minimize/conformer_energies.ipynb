{
 "cells": [
  {
   "cell_type": "markdown",
   "metadata": {
    "tags": []
   },
   "source": [
    "# Compute conformer energies for a small molecule\n",
    "\n",
    "This notebook illustrates reading conformers of a molecule from an SDF file and computation of vacuum conformer energies using a SMIRNOFF force field.\n",
    "\n",
    "Note that absolute vacuum potential energies can be sensitive to small changes in partial charge, for example due to using OpenEye or AmberTools to generate AM1-BCC charges. However, in our experience, _relative_ conformer energies are fairly consistent between AM1-BCC implementations.\n",
    "\n",
    "Note also that the Open Force Field Toolkit produces deterministic charges that do not depend on the input conformation of parameterized molecules. See the [FAQ](https://open-forcefield-toolkit.readthedocs.io/en/stable/faq.html#the-partial-charges-generated-by-the-toolkit-don-t-seem-to-depend-on-the-molecule-s-conformation-is-this-a-bug) for more information."
   ]
  },
  {
   "cell_type": "code",
   "execution_count": 1,
   "metadata": {},
   "outputs": [
    {
     "name": "stderr",
     "output_type": "stream",
     "text": [
      "Warning: Unable to load toolkit 'OpenEye Toolkit'. The Open Force Field Toolkit does not require the OpenEye Toolkits, and can use RDKit/AmberTools instead. However, if you have a valid license for the OpenEye Toolkits, consider installing them for faster performance and additional file format support: https://docs.eyesopen.com/toolkits/python/quickstart-python/linuxosx.html OpenEye offers free Toolkit licenses for academics: https://www.eyesopen.com/academic-licensing\n"
     ]
    }
   ],
   "source": [
    "import shutil\n",
    "\n",
    "import numpy as np\n",
    "from rdkit.Chem import rdMolAlign\n",
    "\n",
    "try:\n",
    "    import openmm\n",
    "    from openmm import unit\n",
    "except ImportError:\n",
    "    from simtk import openmm, unit\n",
    "\n",
    "from openff.toolkit.topology import Molecule, Topology\n",
    "from openff.toolkit.utils import RDKitToolkitWrapper, get_data_file_path"
   ]
  },
  {
   "cell_type": "code",
   "execution_count": 5,
   "metadata": {},
   "outputs": [
    {
     "name": "stderr",
     "output_type": "stream",
     "text": [
      "RDKit WARNING: [22:00:18] Molecule does not have explicit Hs. Consider calling AddHs()\n",
      "[22:00:18] Molecule does not have explicit Hs. Consider calling AddHs()\n"
     ]
    },
    {
     "name": "stdout",
     "output_type": "stream",
     "text": [
      "1 unique molecule(s) loaded, with 10 total conformers\n"
     ]
    }
   ],
   "source": [
    "# If using a OFF Toolkit version before 0.7.0, loading SDFs through RDKit and OpenEye may provide\n",
    "# different behavior in some cases. So, here we force loading through RDKit to ensure the correct behavior\n",
    "rdktkw = RDKitToolkitWrapper()\n",
    "\n",
    "from rdkit import Chem\n",
    "from rdkit.Chem import AllChem\n",
    "mol = AllChem.MolFromMolFile(\"smiles.smi.sdf\")\n",
    "AllChem.EmbedMultipleConfs(mol, numConfs = 10)\n",
    "writer = Chem.SDWriter('multi_confs.sdf')\n",
    "for cid in range(mol.GetNumConformers()):\n",
    "    writer.write(mol, confId=cid)\n",
    "\n",
    "\n",
    "\n",
    "# Load in the molecule and its conformers.\n",
    "# Note that all conformers of the same molecule are loaded as separate Molecule objects\n",
    "loaded_molecules = Molecule.from_file(\n",
    "    \"multi_confs.sdf\",\n",
    "    toolkit_registry=rdktkw,\n",
    ")\n",
    "\n",
    "# The logic below only works for lists of molecules, so if a\n",
    "# single molecule was loaded, cast it to list\n",
    "if type(loaded_molecules) is not list:\n",
    "    loaded_molecules = [loaded_molecules]\n",
    "\n",
    "# Collatate all conformers of the same molecule\n",
    "# NOTE: This isn't necessary if you have already loaded or created multi-conformer molecules;\n",
    "# it is just needed because our SDF reader does not automatically collapse conformers.\n",
    "molecules = [loaded_molecules[0]]\n",
    "for molecule in loaded_molecules[1:]:\n",
    "    if molecule == molecules[-1]:\n",
    "        for conformer in molecule.conformers:\n",
    "            molecules[-1].add_conformer(conformer)\n",
    "    else:\n",
    "        molecules.append(molecule)\n",
    "\n",
    "n_molecules = len(molecules)\n",
    "n_conformers = sum(mol.n_conformers for mol in molecules)\n",
    "print(f\"{n_molecules} unique molecule(s) loaded, with {n_conformers} total conformers\")"
   ]
  },
  {
   "cell_type": "code",
   "execution_count": 6,
   "metadata": {},
   "outputs": [],
   "source": [
    "# Load the openff-2.0.0 force field appropriate for vacuum calculations (without constraints)\n",
    "from openff.toolkit.typing.engines.smirnoff import ForceField\n",
    "\n",
    "forcefield = ForceField(\"openff_unconstrained-2.0.0.offxml\")"
   ]
  },
  {
   "cell_type": "code",
   "execution_count": 8,
   "metadata": {},
   "outputs": [
    {
     "name": "stdout",
     "output_type": "stream",
     "text": [
      " : 10 conformers\n",
      "Parametrizing ﻿ (may take a moment to calculate charges)\n",
      "Conformer         Initial PE        Minimized PE        RMS between initial and minimized conformer\n",
      "    1 /    10 : -192.729 kcal/mol -356.936 kcal/mol     0.753 Angstroms\n",
      "    2 /    10 : -149.574 kcal/mol -354.951 kcal/mol     0.640 Angstroms\n",
      "    3 /    10 : -233.822 kcal/mol -356.422 kcal/mol     0.681 Angstroms\n",
      "    4 /    10 : -304.743 kcal/mol -356.936 kcal/mol     0.446 Angstroms\n",
      "    5 /    10 : -210.290 kcal/mol -355.122 kcal/mol     0.846 Angstroms\n",
      "    6 /    10 : -207.358 kcal/mol -355.122 kcal/mol     0.517 Angstroms\n",
      "    7 /    10 : -304.197 kcal/mol -356.936 kcal/mol     0.518 Angstroms\n",
      "    8 /    10 : -271.845 kcal/mol -354.916 kcal/mol     0.518 Angstroms\n",
      "    9 /    10 : 8509.240 kcal/mol -355.122 kcal/mol     0.876 Angstroms\n",
      "   10 /    10 : -165.233 kcal/mol -353.543 kcal/mol     0.737 Angstroms\n"
     ]
    }
   ],
   "source": [
    "# Loop over molecules and minimize each conformer\n",
    "for molecule in molecules:\n",
    "    # If the molecule doesn't have a name, set mol.name to be the hill formula\n",
    "    if molecule.name == \"\":\n",
    "        molecule.name = Topology._networkx_to_hill_formula(molecule.to_networkx())\n",
    "    print(\"%s : %d conformers\" % (molecule.name, molecule.n_conformers))\n",
    "    # Make a temporary copy of the molecule that we can update for each minimization\n",
    "    mol_copy = Molecule(molecule)\n",
    "    # Make an OpenFF Topology so we can parameterize the system\n",
    "    off_top = molecule.to_topology()\n",
    "    print(f\"Parametrizing {molecule.name} (may take a moment to calculate charges)\")\n",
    "    system = forcefield.create_openmm_system(off_top)\n",
    "    # Use OpenMM to compute initial and minimized energy for all conformers\n",
    "    integrator = openmm.VerletIntegrator(1 * unit.femtoseconds)\n",
    "    platform = openmm.Platform.getPlatformByName(\"Reference\")\n",
    "    omm_top = off_top.to_openmm()\n",
    "    simulation = openmm.app.Simulation(omm_top, system, integrator, platform)\n",
    "\n",
    "    # Print text header\n",
    "    print(\n",
    "        \"Conformer         Initial PE        Minimized PE        RMS between initial and minimized conformer\"\n",
    "    )\n",
    "    output = [\n",
    "        [\n",
    "            \"Conformer\",\n",
    "            \"Initial PE (kcal/mol)\",\n",
    "            \"Minimized PE (kcal/mol)\",\n",
    "            \"RMS between initial and minimized conformer (Angstrom)\",\n",
    "        ]\n",
    "    ]\n",
    "    for conformer_index, conformer in enumerate(molecule.conformers):\n",
    "        simulation.context.setPositions(conformer)\n",
    "        orig_potential = simulation.context.getState(\n",
    "            getEnergy=True\n",
    "        ).getPotentialEnergy()\n",
    "        simulation.minimizeEnergy(tolerance=0.1*unit.kilojoule_per_mole) # default tolerance=10*kilojoules/mole\n",
    "        min_state = simulation.context.getState(getEnergy=True, getPositions=True)\n",
    "        min_potential = min_state.getPotentialEnergy()\n",
    "\n",
    "        # Calculate the RMSD between the initial and minimized conformer\n",
    "        min_coords = min_state.getPositions()\n",
    "        min_coords = (\n",
    "            np.array([[atom.x, atom.y, atom.z] for atom in min_coords]) * unit.nanometer\n",
    "        )\n",
    "        mol_copy._conformers = None\n",
    "        mol_copy.add_conformer(conformer)\n",
    "        mol_copy.add_conformer(min_coords)\n",
    "        rdmol = mol_copy.to_rdkit()\n",
    "        rmslist = []\n",
    "        rdMolAlign.AlignMolConformers(rdmol, RMSlist=rmslist)\n",
    "        minimization_rms = rmslist[0]\n",
    "\n",
    "        # Save the minimized conformer to file\n",
    "        mol_copy._conformers = None\n",
    "        mol_copy.add_conformer(min_coords)\n",
    "        mol_copy.to_file(\n",
    "            f\"conf{conformer_index+1}_minimized.sdf\",\n",
    "            file_format=\"sdf\",\n",
    "        )\n",
    "        print(\n",
    "            \"%5d / %5d : %8.3f kcal/mol %8.3f kcal/mol  %8.3f Angstroms\"\n",
    "            % (\n",
    "                conformer_index + 1,\n",
    "                molecule.n_conformers,\n",
    "                orig_potential / unit.kilocalories_per_mole,\n",
    "                min_potential / unit.kilocalories_per_mole,\n",
    "                minimization_rms,\n",
    "            )\n",
    "        )\n",
    "        output.append(\n",
    "            [\n",
    "                str(conformer_index + 1),\n",
    "                f\"{orig_potential/unit.kilocalories_per_mole:.3f}\",\n",
    "                f\"{min_potential/unit.kilocalories_per_mole:.3f}\",\n",
    "                f\"{minimization_rms:.3f}\",\n",
    "            ]\n",
    "        )\n",
    "    # Write the results out to CSV\n",
    "    with open(f\"energy.csv\", \"w\") as of:\n",
    "        for line in output:\n",
    "            of.write(\",\".join(line) + \"\\n\")\n",
    "    # Clean up OpenMM Simulation\n",
    "    del simulation, integrator"
   ]
  },
  {
   "cell_type": "code",
   "execution_count": 9,
   "metadata": {},
   "outputs": [
    {
     "name": "stderr",
     "output_type": "stream",
     "text": [
      "Warning: importing 'simtk.openmm' is deprecated.  Import 'openmm' instead.\n"
     ]
    }
   ],
   "source": [
    "import parmed\n",
    "\n",
    "# Convert OpenMM System to a ParmEd structure.\n",
    "parmed_structure = parmed.openmm.load_topology(\n",
    "    omm_top, system, min_coords\n",
    ")"
   ]
  },
  {
   "cell_type": "code",
   "execution_count": 12,
   "metadata": {},
   "outputs": [
    {
     "data": {
      "text/plain": [
       "Quantity(value=[Vec3(x=0.9378958748260249, y=-1.1804269050015461, z=-0.6325723753641004), Vec3(x=0.006330867116885094, y=-0.5357380312143559, z=0.13361843735485787), Vec3(x=0.3151183144690695, y=0.3370551395658327, z=1.0190171584692558), Vec3(x=-0.7159729096139207, y=0.8141339112585937, z=1.7307411106322637), Vec3(x=-1.9713331726677539, y=0.6330163426150454, z=1.5347016929425215), Vec3(x=-2.3884893277197454, y=-0.21354259122495237, z=0.4251815610583936), Vec3(x=-1.2590913354629651, y=-0.9511152965856872, z=-0.10826758066982285), Vec3(x=-3.4404410020536518, y=-1.2249904515637482, z=0.9352070927071122), Vec3(x=-4.89245850417831, y=-0.848682380606345, z=0.5886375990336854), Vec3(x=-5.111883708754137, y=0.6601342054426271, z=0.7129144451801221), Vec3(x=-4.217975196318838, y=1.4499541213270222, z=-0.2579349751784254), Vec3(x=-2.9522989891841878, y=0.6830322695633155, z=-0.6875648456049439), Vec3(x=-0.3801761800754278, y=1.6343756746329525, z=2.72643106118276), Vec3(x=2.293098618423402, y=-0.8524930268767275, z=-0.7462035406071127), Vec3(x=2.759839481414756, y=0.4710279091822809, z=-0.7375140608795371), Vec3(x=4.120586151664254, y=0.7580985615966105, z=-0.8853653914605115), Vec3(x=4.730007320107966, y=2.569344057479377, z=-0.8622374409802845), Vec3(x=5.031402850901435, y=-0.2878200749676597, z=-1.0533845479948618), Vec3(x=4.58297527025187, y=-1.6119416480311952, z=-1.077448393262822), Vec3(x=3.218377704581984, y=-1.8880192853936633, z=-0.9291616818424251), Vec3(x=0.6853305956932028, y=-2.140101421394756, z=-0.8113303747060158), Vec3(x=-1.388201946045006, y=-1.3276808646702536, z=-1.0343222040478879), Vec3(x=-3.2382944124610678, y=-2.21728976775364, z=0.5213380352309647), Vec3(x=-3.347046838820832, y=-1.3104408289767313, z=2.0226985398309067), Vec3(x=-5.120839144557076, y=-1.1624147025367146, z=-0.435180611476613), Vec3(x=-5.576250158020813, y=-1.3807331836056895, z=1.2574432370515178), Vec3(x=-6.162298450924118, y=0.9026339001134345, z=0.5238934775089692), Vec3(x=-4.883164949599703, y=0.9637763102144926, z=1.7401977096490704), Vec3(x=-4.790578384323186, y=1.7068632514312518, z=-1.1546174152866755), Vec3(x=-3.926195368803793, y=2.3880682220639375, z=0.22536577527839308), Vec3(x=-2.1892061368729814, y=1.3986249148542143, z=-1.009086322463752), Vec3(x=-3.198178101424818, y=0.056371589097481724, z=-1.5500137890542591), Vec3(x=-1.1261489170838492, y=2.2786373731780234, z=2.943645666055556), Vec3(x=0.5560381458953432, y=1.9929113326449555, z=2.6035066766278407), Vec3(x=2.062128241228514, y=1.2922960480304744, z=-0.6160331449774311), Vec3(x=6.0875848902362595, y=-0.06272780283411686, z=-1.1661618761406516), Vec3(x=5.2931372272555155, y=-2.4229657059885605, z=-1.209738337640347), Vec3(x=2.8802420554044272, y=-2.918016285610856, z=-0.9475747041674193)], unit=angstrom)"
      ]
     },
     "execution_count": 12,
     "metadata": {},
     "output_type": "execute_result"
    }
   ],
   "source": [
    "parmed_structure.positions"
   ]
  },
  {
   "cell_type": "code",
   "execution_count": 10,
   "metadata": {},
   "outputs": [],
   "source": [
    "# Export GROMACS files.\n",
    "parmed_structure.save(\"system.top\", overwrite=True)\n",
    "parmed_structure.save(\"system.pdb\", overwrite=True)"
   ]
  },
  {
   "cell_type": "code",
   "execution_count": null,
   "metadata": {},
   "outputs": [],
   "source": []
  }
 ],
 "metadata": {
  "kernelspec": {
   "display_name": "Python 3",
   "language": "python",
   "name": "python3"
  },
  "language_info": {
   "codemirror_mode": {
    "name": "ipython",
    "version": 3
   },
   "file_extension": ".py",
   "mimetype": "text/x-python",
   "name": "python",
   "nbconvert_exporter": "python",
   "pygments_lexer": "ipython3",
   "version": "3.9.10"
  }
 },
 "nbformat": 4,
 "nbformat_minor": 4
}
