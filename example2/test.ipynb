{
 "cells": [
  {
   "cell_type": "code",
   "execution_count": 1,
   "metadata": {},
   "outputs": [
    {
     "name": "stderr",
     "output_type": "stream",
     "text": [
      "Warning: Unable to load toolkit 'OpenEye Toolkit'. The Open Force Field Toolkit does not require the OpenEye Toolkits, and can use RDKit/AmberTools instead. However, if you have a valid license for the OpenEye Toolkits, consider installing them for faster performance and additional file format support: https://docs.eyesopen.com/toolkits/python/quickstart-python/linuxosx.html OpenEye offers free Toolkit licenses for academics: https://www.eyesopen.com/academic-licensing\n"
     ]
    }
   ],
   "source": [
    "# Load a molecule into the OpenFF Molecule object\n",
    "from rdkit import Chem\n",
    "from rdkit.Chem import AllChem\n",
    "mol = Chem.MolFromMolFile('example.mol')\n",
    "mol = Chem.AddHs(mol)\n",
    "AllChem.EmbedMolecule(mol)\n",
    "Chem.MolToMolFile(mol, \"rdkit.mol\")\n",
    "\n",
    "from openff.toolkit.topology import Molecule\n",
    "molecule = Molecule.from_file('rdkit.mol')\n",
    "molecule.generate_conformers(n_conformers=1, clear_existing=True)\n",
    "\n",
    "# Create an OpenFF Topology object from the molecule\n",
    "from openff.toolkit.topology import Topology\n",
    "topology = Topology.from_molecules(molecule)\n",
    "\n",
    "# Load the latest OpenFF force field release: version 2.0.0, codename \"Sage\"\n",
    "from openff.toolkit.typing.engines.smirnoff import ForceField\n",
    "forcefield = ForceField('openff-2.0.0.offxml')\n",
    "\n",
    "# Create an OpenMM system representing the molecule with SMIRNOFF-applied parameters\n",
    "openmm_system = forcefield.create_openmm_system(topology)"
   ]
  },
  {
   "cell_type": "code",
   "execution_count": 2,
   "metadata": {},
   "outputs": [
    {
     "data": {
      "image/svg+xml": "<svg xmlns=\"http://www.w3.org/2000/svg\" xmlns:rdkit=\"http://www.rdkit.org/xml\" xmlns:xlink=\"http://www.w3.org/1999/xlink\" version=\"1.1\" baseProfile=\"full\" xml:space=\"preserve\" width=\"500px\" height=\"300px\" viewBox=\"0 0 500 300\">\n<!-- END OF HEADER -->\n<rect style=\"opacity:1.0;fill:#FFFFFF;stroke:none\" width=\"500.0\" height=\"300.0\" x=\"0.0\" y=\"0.0\"> </rect>\n<path class=\"bond-13 atom-13 atom-0\" d=\"M 234.6,153.2 L 225.5,147.5\" style=\"fill:none;fill-rule:evenodd;stroke:#000000;stroke-width:2.0px;stroke-linecap:butt;stroke-linejoin:miter;stroke-opacity:1\"/>\n<path class=\"bond-13 atom-13 atom-0\" d=\"M 225.5,147.5 L 216.4,141.8\" style=\"fill:none;fill-rule:evenodd;stroke:#0000FF;stroke-width:2.0px;stroke-linecap:butt;stroke-linejoin:miter;stroke-opacity:1\"/>\n<path class=\"bond-14 atom-0 atom-14\" d=\"M 212.6,133.7 L 213.6,121.3\" style=\"fill:none;fill-rule:evenodd;stroke:#0000FF;stroke-width:2.0px;stroke-linecap:butt;stroke-linejoin:miter;stroke-opacity:1\"/>\n<path class=\"bond-14 atom-0 atom-14\" d=\"M 213.6,121.3 L 214.5,108.9\" style=\"fill:none;fill-rule:evenodd;stroke:#000000;stroke-width:2.0px;stroke-linecap:butt;stroke-linejoin:miter;stroke-opacity:1\"/>\n<path class=\"bond-22 atom-0 atom-20\" d=\"M 207.8,141.4 L 198.9,145.9\" style=\"fill:none;fill-rule:evenodd;stroke:#0000FF;stroke-width:2.0px;stroke-linecap:butt;stroke-linejoin:miter;stroke-opacity:1\"/>\n<path class=\"bond-22 atom-0 atom-20\" d=\"M 198.9,145.9 L 190.0,150.4\" style=\"fill:none;fill-rule:evenodd;stroke:#000000;stroke-width:2.0px;stroke-linecap:butt;stroke-linejoin:miter;stroke-opacity:1\"/>\n<path class=\"bond-0 atom-1 atom-6\" d=\"M 305.8,135.6 L 295.7,142.4\" style=\"fill:none;fill-rule:evenodd;stroke:#0000FF;stroke-width:2.0px;stroke-linecap:butt;stroke-linejoin:miter;stroke-opacity:1\"/>\n<path class=\"bond-0 atom-1 atom-6\" d=\"M 295.7,142.4 L 285.6,149.3\" style=\"fill:none;fill-rule:evenodd;stroke:#000000;stroke-width:2.0px;stroke-linecap:butt;stroke-linejoin:miter;stroke-opacity:1\"/>\n<path class=\"bond-23 atom-1 atom-21\" d=\"M 314.5,134.7 L 323.5,139.1\" style=\"fill:none;fill-rule:evenodd;stroke:#0000FF;stroke-width:2.0px;stroke-linecap:butt;stroke-linejoin:miter;stroke-opacity:1\"/>\n<path class=\"bond-23 atom-1 atom-21\" d=\"M 323.5,139.1 L 332.5,143.5\" style=\"fill:none;fill-rule:evenodd;stroke:#000000;stroke-width:2.0px;stroke-linecap:butt;stroke-linejoin:miter;stroke-opacity:1\"/>\n<path class=\"bond-24 atom-1 atom-22\" d=\"M 309.8,127.2 L 309.1,117.8\" style=\"fill:none;fill-rule:evenodd;stroke:#0000FF;stroke-width:2.0px;stroke-linecap:butt;stroke-linejoin:miter;stroke-opacity:1\"/>\n<path class=\"bond-24 atom-1 atom-22\" d=\"M 309.1,117.8 L 308.4,108.4\" style=\"fill:none;fill-rule:evenodd;stroke:#000000;stroke-width:2.0px;stroke-linecap:butt;stroke-linejoin:miter;stroke-opacity:1\"/>\n<path class=\"bond-4 atom-6 atom-2\" d=\"M 285.6,149.3 L 274.5,143.9\" style=\"fill:none;fill-rule:evenodd;stroke:#000000;stroke-width:2.0px;stroke-linecap:butt;stroke-linejoin:miter;stroke-opacity:1\"/>\n<path class=\"bond-4 atom-6 atom-2\" d=\"M 274.5,143.9 L 263.3,138.6\" style=\"fill:none;fill-rule:evenodd;stroke:#0000FF;stroke-width:2.0px;stroke-linecap:butt;stroke-linejoin:miter;stroke-opacity:1\"/>\n<path class=\"bond-10 atom-2 atom-13\" d=\"M 254.6,139.4 L 244.6,146.3\" style=\"fill:none;fill-rule:evenodd;stroke:#0000FF;stroke-width:2.0px;stroke-linecap:butt;stroke-linejoin:miter;stroke-opacity:1\"/>\n<path class=\"bond-10 atom-2 atom-13\" d=\"M 244.6,146.3 L 234.6,153.2\" style=\"fill:none;fill-rule:evenodd;stroke:#000000;stroke-width:2.0px;stroke-linecap:butt;stroke-linejoin:miter;stroke-opacity:1\"/>\n<path class=\"bond-10 atom-2 atom-13\" d=\"M 254.7,145.9 L 247.7,150.7\" style=\"fill:none;fill-rule:evenodd;stroke:#0000FF;stroke-width:2.0px;stroke-linecap:butt;stroke-linejoin:miter;stroke-opacity:1\"/>\n<path class=\"bond-10 atom-2 atom-13\" d=\"M 247.7,150.7 L 240.7,155.5\" style=\"fill:none;fill-rule:evenodd;stroke:#000000;stroke-width:2.0px;stroke-linecap:butt;stroke-linejoin:miter;stroke-opacity:1\"/>\n<path class=\"bond-21 atom-18 atom-3\" d=\"M 240.2,64.4 L 251.1,58.1\" style=\"fill:none;fill-rule:evenodd;stroke:#000000;stroke-width:2.0px;stroke-linecap:butt;stroke-linejoin:miter;stroke-opacity:1\"/>\n<path class=\"bond-21 atom-18 atom-3\" d=\"M 251.1,58.1 L 261.9,51.8\" style=\"fill:none;fill-rule:evenodd;stroke:#7F4C19;stroke-width:2.0px;stroke-linecap:butt;stroke-linejoin:miter;stroke-opacity:1\"/>\n<path class=\"bond-1 atom-6 atom-4\" d=\"M 285.6,149.3 L 286.7,161.4\" style=\"fill:none;fill-rule:evenodd;stroke:#000000;stroke-width:2.0px;stroke-linecap:butt;stroke-linejoin:miter;stroke-opacity:1\"/>\n<path class=\"bond-1 atom-6 atom-4\" d=\"M 286.7,161.4 L 287.7,173.5\" style=\"fill:none;fill-rule:evenodd;stroke:#0000FF;stroke-width:2.0px;stroke-linecap:butt;stroke-linejoin:miter;stroke-opacity:1\"/>\n<path class=\"bond-1 atom-6 atom-4\" d=\"M 280.6,153.4 L 281.3,161.9\" style=\"fill:none;fill-rule:evenodd;stroke:#000000;stroke-width:2.0px;stroke-linecap:butt;stroke-linejoin:miter;stroke-opacity:1\"/>\n<path class=\"bond-1 atom-6 atom-4\" d=\"M 281.3,161.9 L 282.1,170.4\" style=\"fill:none;fill-rule:evenodd;stroke:#0000FF;stroke-width:2.0px;stroke-linecap:butt;stroke-linejoin:miter;stroke-opacity:1\"/>\n<path class=\"bond-6 atom-4 atom-10\" d=\"M 283.8,182.0 L 273.9,189.0\" style=\"fill:none;fill-rule:evenodd;stroke:#0000FF;stroke-width:2.0px;stroke-linecap:butt;stroke-linejoin:miter;stroke-opacity:1\"/>\n<path class=\"bond-6 atom-4 atom-10\" d=\"M 273.9,189.0 L 264.0,196.0\" style=\"fill:none;fill-rule:evenodd;stroke:#000000;stroke-width:2.0px;stroke-linecap:butt;stroke-linejoin:miter;stroke-opacity:1\"/>\n<path class=\"bond-7 atom-10 atom-5\" d=\"M 264.0,196.0 L 252.6,190.5\" style=\"fill:none;fill-rule:evenodd;stroke:#000000;stroke-width:2.0px;stroke-linecap:butt;stroke-linejoin:miter;stroke-opacity:1\"/>\n<path class=\"bond-7 atom-10 atom-5\" d=\"M 252.6,190.5 L 241.2,185.0\" style=\"fill:none;fill-rule:evenodd;stroke:#0000FF;stroke-width:2.0px;stroke-linecap:butt;stroke-linejoin:miter;stroke-opacity:1\"/>\n<path class=\"bond-11 atom-13 atom-5\" d=\"M 234.6,153.2 L 235.5,165.3\" style=\"fill:none;fill-rule:evenodd;stroke:#000000;stroke-width:2.0px;stroke-linecap:butt;stroke-linejoin:miter;stroke-opacity:1\"/>\n<path class=\"bond-11 atom-13 atom-5\" d=\"M 235.5,165.3 L 236.4,177.4\" style=\"fill:none;fill-rule:evenodd;stroke:#0000FF;stroke-width:2.0px;stroke-linecap:butt;stroke-linejoin:miter;stroke-opacity:1\"/>\n<path class=\"bond-25 atom-5 atom-23\" d=\"M 232.5,183.7 L 222.3,185.7\" style=\"fill:none;fill-rule:evenodd;stroke:#0000FF;stroke-width:2.0px;stroke-linecap:butt;stroke-linejoin:miter;stroke-opacity:1\"/>\n<path class=\"bond-25 atom-5 atom-23\" d=\"M 222.3,185.7 L 212.1,187.6\" style=\"fill:none;fill-rule:evenodd;stroke:#000000;stroke-width:2.0px;stroke-linecap:butt;stroke-linejoin:miter;stroke-opacity:1\"/>\n<path class=\"bond-2 atom-7 atom-8\" d=\"M 291.9,208.4 L 295.2,238.4\" style=\"fill:none;fill-rule:evenodd;stroke:#000000;stroke-width:2.0px;stroke-linecap:butt;stroke-linejoin:miter;stroke-opacity:1\"/>\n<path class=\"bond-5 atom-7 atom-10\" d=\"M 291.9,208.4 L 264.0,196.0\" style=\"fill:none;fill-rule:evenodd;stroke:#000000;stroke-width:2.0px;stroke-linecap:butt;stroke-linejoin:miter;stroke-opacity:1\"/>\n<path class=\"bond-26 atom-7 atom-24\" d=\"M 291.9,208.4 L 315.5,211.8\" style=\"fill:none;fill-rule:evenodd;stroke:#000000;stroke-width:2.0px;stroke-linecap:butt;stroke-linejoin:miter;stroke-opacity:1\"/>\n<path class=\"bond-27 atom-7 atom-25\" d=\"M 291.9,208.4 L 308.2,191.7\" style=\"fill:none;fill-rule:evenodd;stroke:#000000;stroke-width:2.0px;stroke-linecap:butt;stroke-linejoin:miter;stroke-opacity:1\"/>\n<path class=\"bond-3 atom-8 atom-9\" d=\"M 295.2,238.4 L 271.0,256.1\" style=\"fill:none;fill-rule:evenodd;stroke:#000000;stroke-width:2.0px;stroke-linecap:butt;stroke-linejoin:miter;stroke-opacity:1\"/>\n<path class=\"bond-28 atom-8 atom-26\" d=\"M 295.2,238.4 L 304.7,259.8\" style=\"fill:none;fill-rule:evenodd;stroke:#000000;stroke-width:2.0px;stroke-linecap:butt;stroke-linejoin:miter;stroke-opacity:1\"/>\n<path class=\"bond-29 atom-8 atom-27\" d=\"M 295.2,238.4 L 319.8,236.2\" style=\"fill:none;fill-rule:evenodd;stroke:#000000;stroke-width:2.0px;stroke-linecap:butt;stroke-linejoin:miter;stroke-opacity:1\"/>\n<path class=\"bond-9 atom-9 atom-12\" d=\"M 271.0,256.1 L 243.6,244.0\" style=\"fill:none;fill-rule:evenodd;stroke:#000000;stroke-width:2.0px;stroke-linecap:butt;stroke-linejoin:miter;stroke-opacity:1\"/>\n<path class=\"bond-30 atom-9 atom-28\" d=\"M 271.0,256.1 L 257.9,274.6\" style=\"fill:none;fill-rule:evenodd;stroke:#000000;stroke-width:2.0px;stroke-linecap:butt;stroke-linejoin:miter;stroke-opacity:1\"/>\n<path class=\"bond-31 atom-9 atom-29\" d=\"M 271.0,256.1 L 284.0,274.0\" style=\"fill:none;fill-rule:evenodd;stroke:#000000;stroke-width:2.0px;stroke-linecap:butt;stroke-linejoin:miter;stroke-opacity:1\"/>\n<path class=\"bond-8 atom-10 atom-11\" d=\"M 264.0,196.0 L 240.2,214.1\" style=\"fill:none;fill-rule:evenodd;stroke:#000000;stroke-width:2.0px;stroke-linecap:butt;stroke-linejoin:miter;stroke-opacity:1\"/>\n<path class=\"bond-12 atom-11 atom-12\" d=\"M 240.2,214.1 L 243.6,244.0\" style=\"fill:none;fill-rule:evenodd;stroke:#000000;stroke-width:2.0px;stroke-linecap:butt;stroke-linejoin:miter;stroke-opacity:1\"/>\n<path class=\"bond-32 atom-11 atom-30\" d=\"M 240.2,214.1 L 233.0,210.3\" style=\"fill:none;fill-rule:evenodd;stroke:#000000;stroke-width:2.0px;stroke-linecap:butt;stroke-linejoin:miter;stroke-opacity:1\"/>\n<path class=\"bond-33 atom-11 atom-31\" d=\"M 240.2,214.1 L 217.6,220.5\" style=\"fill:none;fill-rule:evenodd;stroke:#000000;stroke-width:2.0px;stroke-linecap:butt;stroke-linejoin:miter;stroke-opacity:1\"/>\n<path class=\"bond-34 atom-12 atom-32\" d=\"M 243.6,244.0 L 219.4,245.1\" style=\"fill:none;fill-rule:evenodd;stroke:#000000;stroke-width:2.0px;stroke-linecap:butt;stroke-linejoin:miter;stroke-opacity:1\"/>\n<path class=\"bond-35 atom-12 atom-33\" d=\"M 243.6,244.0 L 234.8,265.0\" style=\"fill:none;fill-rule:evenodd;stroke:#000000;stroke-width:2.0px;stroke-linecap:butt;stroke-linejoin:miter;stroke-opacity:1\"/>\n<path class=\"bond-15 atom-14 atom-15\" d=\"M 214.5,108.9 L 240.3,94.1\" style=\"fill:none;fill-rule:evenodd;stroke:#000000;stroke-width:2.0px;stroke-linecap:butt;stroke-linejoin:miter;stroke-opacity:1\"/>\n<path class=\"bond-15 atom-14 atom-15\" d=\"M 215.7,102.1 L 233.7,91.7\" style=\"fill:none;fill-rule:evenodd;stroke:#000000;stroke-width:2.0px;stroke-linecap:butt;stroke-linejoin:miter;stroke-opacity:1\"/>\n<path class=\"bond-16 atom-14 atom-16\" d=\"M 214.5,108.9 L 188.9,94.1\" style=\"fill:none;fill-rule:evenodd;stroke:#000000;stroke-width:2.0px;stroke-linecap:butt;stroke-linejoin:miter;stroke-opacity:1\"/>\n<path class=\"bond-18 atom-15 atom-18\" d=\"M 240.3,94.1 L 240.2,64.4\" style=\"fill:none;fill-rule:evenodd;stroke:#000000;stroke-width:2.0px;stroke-linecap:butt;stroke-linejoin:miter;stroke-opacity:1\"/>\n<path class=\"bond-36 atom-15 atom-34\" d=\"M 240.3,94.1 L 261.5,106.3\" style=\"fill:none;fill-rule:evenodd;stroke:#000000;stroke-width:2.0px;stroke-linecap:butt;stroke-linejoin:miter;stroke-opacity:1\"/>\n<path class=\"bond-17 atom-16 atom-17\" d=\"M 188.9,94.1 L 188.8,64.4\" style=\"fill:none;fill-rule:evenodd;stroke:#000000;stroke-width:2.0px;stroke-linecap:butt;stroke-linejoin:miter;stroke-opacity:1\"/>\n<path class=\"bond-17 atom-16 atom-17\" d=\"M 194.3,89.7 L 194.2,68.9\" style=\"fill:none;fill-rule:evenodd;stroke:#000000;stroke-width:2.0px;stroke-linecap:butt;stroke-linejoin:miter;stroke-opacity:1\"/>\n<path class=\"bond-37 atom-16 atom-35\" d=\"M 188.9,94.1 L 167.7,106.4\" style=\"fill:none;fill-rule:evenodd;stroke:#000000;stroke-width:2.0px;stroke-linecap:butt;stroke-linejoin:miter;stroke-opacity:1\"/>\n<path class=\"bond-19 atom-17 atom-19\" d=\"M 188.8,64.4 L 214.5,49.6\" style=\"fill:none;fill-rule:evenodd;stroke:#000000;stroke-width:2.0px;stroke-linecap:butt;stroke-linejoin:miter;stroke-opacity:1\"/>\n<path class=\"bond-38 atom-17 atom-36\" d=\"M 188.8,64.4 L 167.6,52.2\" style=\"fill:none;fill-rule:evenodd;stroke:#000000;stroke-width:2.0px;stroke-linecap:butt;stroke-linejoin:miter;stroke-opacity:1\"/>\n<path class=\"bond-20 atom-18 atom-19\" d=\"M 240.2,64.4 L 214.5,49.6\" style=\"fill:none;fill-rule:evenodd;stroke:#000000;stroke-width:2.0px;stroke-linecap:butt;stroke-linejoin:miter;stroke-opacity:1\"/>\n<path class=\"bond-20 atom-18 atom-19\" d=\"M 233.7,66.8 L 215.7,56.5\" style=\"fill:none;fill-rule:evenodd;stroke:#000000;stroke-width:2.0px;stroke-linecap:butt;stroke-linejoin:miter;stroke-opacity:1\"/>\n<path class=\"bond-39 atom-19 atom-37\" d=\"M 214.5,49.6 L 214.4,25.4\" style=\"fill:none;fill-rule:evenodd;stroke:#000000;stroke-width:2.0px;stroke-linecap:butt;stroke-linejoin:miter;stroke-opacity:1\"/>\n<path class=\"atom-0\" d=\"M 210.0 134.5 L 213.1 139.5 Q 213.5 140.0, 213.9 140.9 Q 214.4 141.8, 214.5 141.8 L 214.5 134.5 L 215.7 134.5 L 215.7 143.9 L 214.4 143.9 L 211.1 138.5 Q 210.7 137.8, 210.3 137.1 Q 209.9 136.4, 209.8 136.1 L 209.8 143.9 L 208.6 143.9 L 208.6 134.5 L 210.0 134.5 \" fill=\"#0000FF\"/>\n<path class=\"atom-1\" d=\"M 308.1 127.9 L 311.2 132.9 Q 311.5 133.4, 312.0 134.3 Q 312.5 135.2, 312.5 135.2 L 312.5 127.9 L 313.7 127.9 L 313.7 137.3 L 312.4 137.3 L 309.1 131.9 Q 308.7 131.2, 308.3 130.5 Q 307.9 129.8, 307.8 129.5 L 307.8 137.3 L 306.6 137.3 L 306.6 127.9 L 308.1 127.9 \" fill=\"#0000FF\"/>\n<path class=\"atom-2\" d=\"M 256.9 131.7 L 260.0 136.7 Q 260.3 137.2, 260.8 138.1 Q 261.3 139.0, 261.3 139.1 L 261.3 131.7 L 262.5 131.7 L 262.5 141.2 L 261.2 141.2 L 257.9 135.7 Q 257.5 135.1, 257.1 134.3 Q 256.7 133.6, 256.6 133.4 L 256.6 141.2 L 255.4 141.2 L 255.4 131.7 L 256.9 131.7 \" fill=\"#0000FF\"/>\n<path class=\"atom-3\" d=\"M 267.3 49.3 Q 268.2 49.6, 268.6 50.1 Q 269.1 50.7, 269.1 51.5 Q 269.1 52.8, 268.2 53.5 Q 267.4 54.3, 265.8 54.3 L 262.7 54.3 L 262.7 44.8 L 265.5 44.8 Q 267.1 44.8, 267.9 45.5 Q 268.7 46.1, 268.7 47.3 Q 268.7 48.8, 267.3 49.3 M 263.9 45.9 L 263.9 48.9 L 265.5 48.9 Q 266.4 48.9, 266.9 48.5 Q 267.4 48.1, 267.4 47.3 Q 267.4 45.9, 265.5 45.9 L 263.9 45.9 M 265.8 53.2 Q 266.8 53.2, 267.3 52.8 Q 267.8 52.3, 267.8 51.5 Q 267.8 50.7, 267.2 50.3 Q 266.7 49.9, 265.6 49.9 L 263.9 49.9 L 263.9 53.2 L 265.8 53.2 \" fill=\"#7F4C19\"/>\n<path class=\"atom-3\" d=\"M 271.2 47.4 L 271.4 48.4 Q 272.1 47.3, 273.3 47.3 Q 273.7 47.3, 274.2 47.4 L 274.0 48.6 Q 273.4 48.4, 273.1 48.4 Q 272.5 48.4, 272.1 48.6 Q 271.8 48.9, 271.5 49.4 L 271.5 54.3 L 270.2 54.3 L 270.2 47.4 L 271.2 47.4 \" fill=\"#7F4C19\"/>\n<path class=\"atom-4\" d=\"M 286.1 174.3 L 289.2 179.3 Q 289.5 179.8, 290.0 180.7 Q 290.5 181.6, 290.5 181.6 L 290.5 174.3 L 291.7 174.3 L 291.7 183.7 L 290.4 183.7 L 287.1 178.2 Q 286.7 177.6, 286.3 176.9 Q 285.9 176.1, 285.8 175.9 L 285.8 183.7 L 284.6 183.7 L 284.6 174.3 L 286.1 174.3 \" fill=\"#0000FF\"/>\n<path class=\"atom-5\" d=\"M 234.7 178.1 L 237.8 183.1 Q 238.1 183.6, 238.6 184.5 Q 239.1 185.4, 239.2 185.5 L 239.2 178.1 L 240.4 178.1 L 240.4 187.6 L 239.1 187.6 L 235.8 182.1 Q 235.4 181.5, 235.0 180.7 Q 234.6 180.0, 234.5 179.8 L 234.5 187.6 L 233.3 187.6 L 233.3 178.1 L 234.7 178.1 \" fill=\"#0000FF\"/>\n<path class=\"atom-20\" d=\"M 182.0 147.8 L 183.3 147.8 L 183.3 151.9 L 188.1 151.9 L 188.1 147.8 L 189.4 147.8 L 189.4 157.3 L 188.1 157.3 L 188.1 152.9 L 183.3 152.9 L 183.3 157.3 L 182.0 157.3 L 182.0 147.8 \" fill=\"#000000\"/>\n<path class=\"atom-21\" d=\"M 333.2 140.8 L 334.4 140.8 L 334.4 144.9 L 339.3 144.9 L 339.3 140.8 L 340.6 140.8 L 340.6 150.3 L 339.3 150.3 L 339.3 145.9 L 334.4 145.9 L 334.4 150.3 L 333.2 150.3 L 333.2 140.8 \" fill=\"#000000\"/>\n<path class=\"atom-22\" d=\"M 304.3 98.3 L 305.6 98.3 L 305.6 102.4 L 310.4 102.4 L 310.4 98.3 L 311.7 98.3 L 311.7 107.8 L 310.4 107.8 L 310.4 103.4 L 305.6 103.4 L 305.6 107.8 L 304.3 107.8 L 304.3 98.3 \" fill=\"#000000\"/>\n<path class=\"atom-23\" d=\"M 204.0 183.7 L 205.3 183.7 L 205.3 187.7 L 210.2 187.7 L 210.2 183.7 L 211.4 183.7 L 211.4 193.2 L 210.2 193.2 L 210.2 188.8 L 205.3 188.8 L 205.3 193.2 L 204.0 193.2 L 204.0 183.7 \" fill=\"#000000\"/>\n<path class=\"atom-24\" d=\"M 316.2 207.7 L 317.4 207.7 L 317.4 211.7 L 322.3 211.7 L 322.3 207.7 L 323.6 207.7 L 323.6 217.1 L 322.3 217.1 L 322.3 212.8 L 317.4 212.8 L 317.4 217.1 L 316.2 217.1 L 316.2 207.7 \" fill=\"#000000\"/>\n<path class=\"atom-25\" d=\"M 308.9 182.5 L 310.2 182.5 L 310.2 186.5 L 315.1 186.5 L 315.1 182.5 L 316.3 182.5 L 316.3 191.9 L 315.1 191.9 L 315.1 187.6 L 310.2 187.6 L 310.2 191.9 L 308.9 191.9 L 308.9 182.5 \" fill=\"#000000\"/>\n<path class=\"atom-26\" d=\"M 303.4 260.5 L 304.7 260.5 L 304.7 264.6 L 309.5 264.6 L 309.5 260.5 L 310.8 260.5 L 310.8 270.0 L 309.5 270.0 L 309.5 265.6 L 304.7 265.6 L 304.7 270.0 L 303.4 270.0 L 303.4 260.5 \" fill=\"#000000\"/>\n<path class=\"atom-27\" d=\"M 320.5 231.1 L 321.8 231.1 L 321.8 235.1 L 326.6 235.1 L 326.6 231.1 L 327.9 231.1 L 327.9 240.5 L 326.6 240.5 L 326.6 236.1 L 321.8 236.1 L 321.8 240.5 L 320.5 240.5 L 320.5 231.1 \" fill=\"#000000\"/>\n<path class=\"atom-28\" d=\"M 250.4 275.3 L 251.6 275.3 L 251.6 279.4 L 256.5 279.4 L 256.5 275.3 L 257.8 275.3 L 257.8 284.8 L 256.5 284.8 L 256.5 280.4 L 251.6 280.4 L 251.6 284.8 L 250.4 284.8 L 250.4 275.3 \" fill=\"#000000\"/>\n<path class=\"atom-29\" d=\"M 284.3 274.7 L 285.6 274.7 L 285.6 278.7 L 290.4 278.7 L 290.4 274.7 L 291.7 274.7 L 291.7 284.1 L 290.4 284.1 L 290.4 279.8 L 285.6 279.8 L 285.6 284.1 L 284.3 284.1 L 284.3 274.7 \" fill=\"#000000\"/>\n<path class=\"atom-30\" d=\"M 225.3 203.4 L 226.6 203.4 L 226.6 207.4 L 231.4 207.4 L 231.4 203.4 L 232.7 203.4 L 232.7 212.8 L 231.4 212.8 L 231.4 208.5 L 226.6 208.5 L 226.6 212.8 L 225.3 212.8 L 225.3 203.4 \" fill=\"#000000\"/>\n<path class=\"atom-31\" d=\"M 209.5 217.1 L 210.8 217.1 L 210.8 221.1 L 215.6 221.1 L 215.6 217.1 L 216.9 217.1 L 216.9 226.5 L 215.6 226.5 L 215.6 222.1 L 210.8 222.1 L 210.8 226.5 L 209.5 226.5 L 209.5 217.1 \" fill=\"#000000\"/>\n<path class=\"atom-32\" d=\"M 211.3 240.6 L 212.6 240.6 L 212.6 244.6 L 217.4 244.6 L 217.4 240.6 L 218.7 240.6 L 218.7 250.0 L 217.4 250.0 L 217.4 245.6 L 212.6 245.6 L 212.6 250.0 L 211.3 250.0 L 211.3 240.6 \" fill=\"#000000\"/>\n<path class=\"atom-33\" d=\"M 228.8 265.7 L 230.1 265.7 L 230.1 269.7 L 234.9 269.7 L 234.9 265.7 L 236.2 265.7 L 236.2 275.1 L 234.9 275.1 L 234.9 270.8 L 230.1 270.8 L 230.1 275.1 L 228.8 275.1 L 228.8 265.7 \" fill=\"#000000\"/>\n<path class=\"atom-34\" d=\"M 262.2 104.2 L 263.5 104.2 L 263.5 108.2 L 268.3 108.2 L 268.3 104.2 L 269.6 104.2 L 269.6 113.6 L 268.3 113.6 L 268.3 109.2 L 263.5 109.2 L 263.5 113.6 L 262.2 113.6 L 262.2 104.2 \" fill=\"#000000\"/>\n<path class=\"atom-35\" d=\"M 159.5 104.3 L 160.8 104.3 L 160.8 108.3 L 165.7 108.3 L 165.7 104.3 L 166.9 104.3 L 166.9 113.7 L 165.7 113.7 L 165.7 109.4 L 160.8 109.4 L 160.8 113.7 L 159.5 113.7 L 159.5 104.3 \" fill=\"#000000\"/>\n<path class=\"atom-36\" d=\"M 159.4 45.0 L 160.7 45.0 L 160.7 49.0 L 165.6 49.0 L 165.6 45.0 L 166.8 45.0 L 166.8 54.4 L 165.6 54.4 L 165.6 50.0 L 160.7 50.0 L 160.7 54.4 L 159.4 54.4 L 159.4 45.0 \" fill=\"#000000\"/>\n<path class=\"atom-37\" d=\"M 210.7 15.2 L 212.0 15.2 L 212.0 19.2 L 216.8 19.2 L 216.8 15.2 L 218.1 15.2 L 218.1 24.7 L 216.8 24.7 L 216.8 20.3 L 212.0 20.3 L 212.0 24.7 L 210.7 24.7 L 210.7 15.2 \" fill=\"#000000\"/>\n</svg>",
      "text/plain": [
       "<IPython.core.display.SVG object>"
      ]
     },
     "metadata": {},
     "output_type": "display_data"
    }
   ],
   "source": [
    "molecule"
   ]
  },
  {
   "cell_type": "code",
   "execution_count": 3,
   "metadata": {},
   "outputs": [
    {
     "name": "stderr",
     "output_type": "stream",
     "text": [
      "Warning: importing 'simtk.openmm' is deprecated.  Import 'openmm' instead.\n"
     ]
    }
   ],
   "source": [
    "import parmed\n",
    "\n",
    "# Convert OpenMM System to a ParmEd structure.\n",
    "parmed_structure = parmed.openmm.load_topology(\n",
    "    topology.to_openmm(), openmm_system, molecule.conformers[0]\n",
    ")"
   ]
  },
  {
   "cell_type": "code",
   "execution_count": 4,
   "metadata": {},
   "outputs": [],
   "source": [
    "# Export GROMACS files.\n",
    "parmed_structure.save(\"system.top\", overwrite=True)\n",
    "parmed_structure.save(\"system.gro\", overwrite=True)"
   ]
  },
  {
   "cell_type": "code",
   "execution_count": null,
   "metadata": {},
   "outputs": [],
   "source": [
    "# Export AMBER files.\n",
    "parmed_structure.save(\"system.prmtop\", overwrite=True)\n",
    "parmed_structure.save(\"system.inpcrd\", overwrite=True)\n",
    "\n",
    "# Error converting via parmed to prmtop, related to ParmEd #930 #603\n",
    "# https://github.com/openforcefield/openff-toolkit/issues/603"
   ]
  },
  {
   "cell_type": "code",
   "execution_count": null,
   "metadata": {},
   "outputs": [],
   "source": []
  }
 ],
 "metadata": {
  "interpreter": {
   "hash": "768526840ada26f29ca9068928199872b08c3923818e93b20abf31826f7c189a"
  },
  "kernelspec": {
   "display_name": "Python 3.9.10 ('openff')",
   "language": "python",
   "name": "python3"
  },
  "language_info": {
   "codemirror_mode": {
    "name": "ipython",
    "version": 3
   },
   "file_extension": ".py",
   "mimetype": "text/x-python",
   "name": "python",
   "nbconvert_exporter": "python",
   "pygments_lexer": "ipython3",
   "version": "3.9.10"
  },
  "orig_nbformat": 4
 },
 "nbformat": 4,
 "nbformat_minor": 2
}
