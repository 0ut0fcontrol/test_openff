{
 "cells": [
  {
   "cell_type": "code",
   "execution_count": 1,
   "metadata": {},
   "outputs": [
    {
     "name": "stderr",
     "output_type": "stream",
     "text": [
      "Warning: Unable to load toolkit 'OpenEye Toolkit'. The Open Force Field Toolkit does not require the OpenEye Toolkits, and can use RDKit/AmberTools instead. However, if you have a valid license for the OpenEye Toolkits, consider installing them for faster performance and additional file format support: https://docs.eyesopen.com/toolkits/python/quickstart-python/linuxosx.html OpenEye offers free Toolkit licenses for academics: https://www.eyesopen.com/academic-licensing\n"
     ]
    }
   ],
   "source": [
    "# Load a molecule into the OpenFF Molecule object\n",
    "# from rdkit import Chem\n",
    "# from rdkit.Chem import AllChem\n",
    "# mol = Chem.MolFromMolFile('example.mol')\n",
    "# mol = Chem.AddHs(mol)\n",
    "# AllChem.EmbedMolecule(mol)\n",
    "# Chem.MolToMolFile(mol, \"rdkit.mol\")\n",
    "\n",
    "from openff.toolkit.topology import Molecule\n",
    "molecule = Molecule.from_file('smiles.smi.sdf')\n",
    "# molecule.generate_conformers(n_conformers=1, clear_existing=True)\n",
    "\n",
    "# Create an OpenFF Topology object from the molecule\n",
    "from openff.toolkit.topology import Topology\n",
    "topology = Topology.from_molecules(molecule)\n",
    "\n",
    "# Load the latest OpenFF force field release: version 2.0.0, codename \"Sage\"\n",
    "from openff.toolkit.typing.engines.smirnoff import ForceField\n",
    "forcefield = ForceField('openff-2.0.0.offxml')\n",
    "\n",
    "# Create an OpenMM system representing the molecule with SMIRNOFF-applied parameters\n",
    "openmm_system = forcefield.create_openmm_system(topology)"
   ]
  },
  {
   "cell_type": "code",
   "execution_count": 2,
   "metadata": {},
   "outputs": [
    {
     "data": {
      "image/svg+xml": "<svg xmlns=\"http://www.w3.org/2000/svg\" xmlns:rdkit=\"http://www.rdkit.org/xml\" xmlns:xlink=\"http://www.w3.org/1999/xlink\" version=\"1.1\" baseProfile=\"full\" xml:space=\"preserve\" width=\"500px\" height=\"300px\" viewBox=\"0 0 500 300\">\n<!-- END OF HEADER -->\n<rect style=\"opacity:1.0;fill:#FFFFFF;stroke:none\" width=\"500.0\" height=\"300.0\" x=\"0.0\" y=\"0.0\"> </rect>\n<path class=\"bond-0 atom-0 atom-1\" d=\"M 216.4,141.9 L 225.5,147.6\" style=\"fill:none;fill-rule:evenodd;stroke:#0000FF;stroke-width:2.0px;stroke-linecap:butt;stroke-linejoin:miter;stroke-opacity:1\"/>\n<path class=\"bond-0 atom-0 atom-1\" d=\"M 225.5,147.6 L 234.6,153.2\" style=\"fill:none;fill-rule:evenodd;stroke:#000000;stroke-width:2.0px;stroke-linecap:butt;stroke-linejoin:miter;stroke-opacity:1\"/>\n<path class=\"bond-1 atom-0 atom-13\" d=\"M 212.6,133.8 L 213.6,121.4\" style=\"fill:none;fill-rule:evenodd;stroke:#0000FF;stroke-width:2.0px;stroke-linecap:butt;stroke-linejoin:miter;stroke-opacity:1\"/>\n<path class=\"bond-1 atom-0 atom-13\" d=\"M 213.6,121.4 L 214.6,108.9\" style=\"fill:none;fill-rule:evenodd;stroke:#000000;stroke-width:2.0px;stroke-linecap:butt;stroke-linejoin:miter;stroke-opacity:1\"/>\n<path class=\"bond-2 atom-0 atom-20\" d=\"M 207.8,141.5 L 198.9,146.0\" style=\"fill:none;fill-rule:evenodd;stroke:#0000FF;stroke-width:2.0px;stroke-linecap:butt;stroke-linejoin:miter;stroke-opacity:1\"/>\n<path class=\"bond-2 atom-0 atom-20\" d=\"M 198.9,146.0 L 190.0,150.5\" style=\"fill:none;fill-rule:evenodd;stroke:#000000;stroke-width:2.0px;stroke-linecap:butt;stroke-linejoin:miter;stroke-opacity:1\"/>\n<path class=\"bond-3 atom-1 atom-2\" d=\"M 234.6,153.2 L 244.6,146.3\" style=\"fill:none;fill-rule:evenodd;stroke:#000000;stroke-width:2.0px;stroke-linecap:butt;stroke-linejoin:miter;stroke-opacity:1\"/>\n<path class=\"bond-3 atom-1 atom-2\" d=\"M 244.6,146.3 L 254.6,139.4\" style=\"fill:none;fill-rule:evenodd;stroke:#0000FF;stroke-width:2.0px;stroke-linecap:butt;stroke-linejoin:miter;stroke-opacity:1\"/>\n<path class=\"bond-3 atom-1 atom-2\" d=\"M 240.6,155.6 L 247.6,150.7\" style=\"fill:none;fill-rule:evenodd;stroke:#000000;stroke-width:2.0px;stroke-linecap:butt;stroke-linejoin:miter;stroke-opacity:1\"/>\n<path class=\"bond-3 atom-1 atom-2\" d=\"M 247.6,150.7 L 254.6,145.9\" style=\"fill:none;fill-rule:evenodd;stroke:#0000FF;stroke-width:2.0px;stroke-linecap:butt;stroke-linejoin:miter;stroke-opacity:1\"/>\n<path class=\"bond-4 atom-1 atom-6\" d=\"M 234.6,153.2 L 235.6,165.3\" style=\"fill:none;fill-rule:evenodd;stroke:#000000;stroke-width:2.0px;stroke-linecap:butt;stroke-linejoin:miter;stroke-opacity:1\"/>\n<path class=\"bond-4 atom-1 atom-6\" d=\"M 235.6,165.3 L 236.5,177.4\" style=\"fill:none;fill-rule:evenodd;stroke:#0000FF;stroke-width:2.0px;stroke-linecap:butt;stroke-linejoin:miter;stroke-opacity:1\"/>\n<path class=\"bond-5 atom-2 atom-3\" d=\"M 263.2,138.5 L 274.4,143.9\" style=\"fill:none;fill-rule:evenodd;stroke:#0000FF;stroke-width:2.0px;stroke-linecap:butt;stroke-linejoin:miter;stroke-opacity:1\"/>\n<path class=\"bond-5 atom-2 atom-3\" d=\"M 274.4,143.9 L 285.6,149.2\" style=\"fill:none;fill-rule:evenodd;stroke:#000000;stroke-width:2.0px;stroke-linecap:butt;stroke-linejoin:miter;stroke-opacity:1\"/>\n<path class=\"bond-6 atom-3 atom-4\" d=\"M 285.6,149.2 L 286.7,161.3\" style=\"fill:none;fill-rule:evenodd;stroke:#000000;stroke-width:2.0px;stroke-linecap:butt;stroke-linejoin:miter;stroke-opacity:1\"/>\n<path class=\"bond-6 atom-3 atom-4\" d=\"M 286.7,161.3 L 287.8,173.4\" style=\"fill:none;fill-rule:evenodd;stroke:#0000FF;stroke-width:2.0px;stroke-linecap:butt;stroke-linejoin:miter;stroke-opacity:1\"/>\n<path class=\"bond-6 atom-3 atom-4\" d=\"M 280.6,153.3 L 281.4,161.8\" style=\"fill:none;fill-rule:evenodd;stroke:#000000;stroke-width:2.0px;stroke-linecap:butt;stroke-linejoin:miter;stroke-opacity:1\"/>\n<path class=\"bond-6 atom-3 atom-4\" d=\"M 281.4,161.8 L 282.2,170.3\" style=\"fill:none;fill-rule:evenodd;stroke:#0000FF;stroke-width:2.0px;stroke-linecap:butt;stroke-linejoin:miter;stroke-opacity:1\"/>\n<path class=\"bond-7 atom-3 atom-12\" d=\"M 285.6,149.2 L 295.7,142.3\" style=\"fill:none;fill-rule:evenodd;stroke:#000000;stroke-width:2.0px;stroke-linecap:butt;stroke-linejoin:miter;stroke-opacity:1\"/>\n<path class=\"bond-7 atom-3 atom-12\" d=\"M 295.7,142.3 L 305.8,135.4\" style=\"fill:none;fill-rule:evenodd;stroke:#0000FF;stroke-width:2.0px;stroke-linecap:butt;stroke-linejoin:miter;stroke-opacity:1\"/>\n<path class=\"bond-8 atom-4 atom-5\" d=\"M 284.0,181.9 L 274.1,188.9\" style=\"fill:none;fill-rule:evenodd;stroke:#0000FF;stroke-width:2.0px;stroke-linecap:butt;stroke-linejoin:miter;stroke-opacity:1\"/>\n<path class=\"bond-8 atom-4 atom-5\" d=\"M 274.1,188.9 L 264.2,195.9\" style=\"fill:none;fill-rule:evenodd;stroke:#000000;stroke-width:2.0px;stroke-linecap:butt;stroke-linejoin:miter;stroke-opacity:1\"/>\n<path class=\"bond-9 atom-5 atom-6\" d=\"M 264.2,195.9 L 252.7,190.5\" style=\"fill:none;fill-rule:evenodd;stroke:#000000;stroke-width:2.0px;stroke-linecap:butt;stroke-linejoin:miter;stroke-opacity:1\"/>\n<path class=\"bond-9 atom-5 atom-6\" d=\"M 252.7,190.5 L 241.3,185.0\" style=\"fill:none;fill-rule:evenodd;stroke:#0000FF;stroke-width:2.0px;stroke-linecap:butt;stroke-linejoin:miter;stroke-opacity:1\"/>\n<path class=\"bond-10 atom-5 atom-7\" d=\"M 264.2,195.9 L 292.0,208.6\" style=\"fill:none;fill-rule:evenodd;stroke:#000000;stroke-width:2.0px;stroke-linecap:butt;stroke-linejoin:miter;stroke-opacity:1\"/>\n<path class=\"bond-11 atom-5 atom-11\" d=\"M 264.2,195.9 L 240.2,213.7\" style=\"fill:none;fill-rule:evenodd;stroke:#000000;stroke-width:2.0px;stroke-linecap:butt;stroke-linejoin:miter;stroke-opacity:1\"/>\n<path class=\"bond-12 atom-6 atom-21\" d=\"M 232.6,183.7 L 222.4,185.6\" style=\"fill:none;fill-rule:evenodd;stroke:#0000FF;stroke-width:2.0px;stroke-linecap:butt;stroke-linejoin:miter;stroke-opacity:1\"/>\n<path class=\"bond-12 atom-6 atom-21\" d=\"M 222.4,185.6 L 212.2,187.5\" style=\"fill:none;fill-rule:evenodd;stroke:#000000;stroke-width:2.0px;stroke-linecap:butt;stroke-linejoin:miter;stroke-opacity:1\"/>\n<path class=\"bond-13 atom-7 atom-8\" d=\"M 292.0,208.6 L 294.9,238.6\" style=\"fill:none;fill-rule:evenodd;stroke:#000000;stroke-width:2.0px;stroke-linecap:butt;stroke-linejoin:miter;stroke-opacity:1\"/>\n<path class=\"bond-14 atom-7 atom-22\" d=\"M 292.0,208.6 L 315.6,212.3\" style=\"fill:none;fill-rule:evenodd;stroke:#000000;stroke-width:2.0px;stroke-linecap:butt;stroke-linejoin:miter;stroke-opacity:1\"/>\n<path class=\"bond-15 atom-7 atom-23\" d=\"M 292.0,208.6 L 308.1,191.9\" style=\"fill:none;fill-rule:evenodd;stroke:#000000;stroke-width:2.0px;stroke-linecap:butt;stroke-linejoin:miter;stroke-opacity:1\"/>\n<path class=\"bond-16 atom-8 atom-9\" d=\"M 294.9,238.6 L 270.5,255.9\" style=\"fill:none;fill-rule:evenodd;stroke:#000000;stroke-width:2.0px;stroke-linecap:butt;stroke-linejoin:miter;stroke-opacity:1\"/>\n<path class=\"bond-17 atom-8 atom-24\" d=\"M 294.9,238.6 L 304.4,259.8\" style=\"fill:none;fill-rule:evenodd;stroke:#000000;stroke-width:2.0px;stroke-linecap:butt;stroke-linejoin:miter;stroke-opacity:1\"/>\n<path class=\"bond-18 atom-8 atom-25\" d=\"M 294.9,238.6 L 319.4,236.8\" style=\"fill:none;fill-rule:evenodd;stroke:#000000;stroke-width:2.0px;stroke-linecap:butt;stroke-linejoin:miter;stroke-opacity:1\"/>\n<path class=\"bond-19 atom-9 atom-10\" d=\"M 270.5,255.9 L 243.3,243.6\" style=\"fill:none;fill-rule:evenodd;stroke:#000000;stroke-width:2.0px;stroke-linecap:butt;stroke-linejoin:miter;stroke-opacity:1\"/>\n<path class=\"bond-20 atom-9 atom-26\" d=\"M 270.5,255.9 L 257.7,274.6\" style=\"fill:none;fill-rule:evenodd;stroke:#000000;stroke-width:2.0px;stroke-linecap:butt;stroke-linejoin:miter;stroke-opacity:1\"/>\n<path class=\"bond-21 atom-9 atom-27\" d=\"M 270.5,255.9 L 283.7,273.7\" style=\"fill:none;fill-rule:evenodd;stroke:#000000;stroke-width:2.0px;stroke-linecap:butt;stroke-linejoin:miter;stroke-opacity:1\"/>\n<path class=\"bond-22 atom-10 atom-11\" d=\"M 243.3,243.6 L 240.2,213.7\" style=\"fill:none;fill-rule:evenodd;stroke:#000000;stroke-width:2.0px;stroke-linecap:butt;stroke-linejoin:miter;stroke-opacity:1\"/>\n<path class=\"bond-23 atom-10 atom-28\" d=\"M 243.3,243.6 L 219.2,244.9\" style=\"fill:none;fill-rule:evenodd;stroke:#000000;stroke-width:2.0px;stroke-linecap:butt;stroke-linejoin:miter;stroke-opacity:1\"/>\n<path class=\"bond-24 atom-10 atom-29\" d=\"M 243.3,243.6 L 234.7,264.7\" style=\"fill:none;fill-rule:evenodd;stroke:#000000;stroke-width:2.0px;stroke-linecap:butt;stroke-linejoin:miter;stroke-opacity:1\"/>\n<path class=\"bond-25 atom-11 atom-30\" d=\"M 240.2,213.7 L 231.8,210.1\" style=\"fill:none;fill-rule:evenodd;stroke:#000000;stroke-width:2.0px;stroke-linecap:butt;stroke-linejoin:miter;stroke-opacity:1\"/>\n<path class=\"bond-26 atom-11 atom-31\" d=\"M 240.2,213.7 L 217.9,220.2\" style=\"fill:none;fill-rule:evenodd;stroke:#000000;stroke-width:2.0px;stroke-linecap:butt;stroke-linejoin:miter;stroke-opacity:1\"/>\n<path class=\"bond-27 atom-12 atom-32\" d=\"M 314.4,134.5 L 323.5,138.8\" style=\"fill:none;fill-rule:evenodd;stroke:#0000FF;stroke-width:2.0px;stroke-linecap:butt;stroke-linejoin:miter;stroke-opacity:1\"/>\n<path class=\"bond-27 atom-12 atom-32\" d=\"M 323.5,138.8 L 332.5,143.2\" style=\"fill:none;fill-rule:evenodd;stroke:#000000;stroke-width:2.0px;stroke-linecap:butt;stroke-linejoin:miter;stroke-opacity:1\"/>\n<path class=\"bond-28 atom-12 atom-33\" d=\"M 309.7,127.0 L 309.0,117.6\" style=\"fill:none;fill-rule:evenodd;stroke:#0000FF;stroke-width:2.0px;stroke-linecap:butt;stroke-linejoin:miter;stroke-opacity:1\"/>\n<path class=\"bond-28 atom-12 atom-33\" d=\"M 309.0,117.6 L 308.3,108.2\" style=\"fill:none;fill-rule:evenodd;stroke:#000000;stroke-width:2.0px;stroke-linecap:butt;stroke-linejoin:miter;stroke-opacity:1\"/>\n<path class=\"bond-29 atom-13 atom-14\" d=\"M 214.6,108.9 L 240.3,94.1\" style=\"fill:none;fill-rule:evenodd;stroke:#000000;stroke-width:2.0px;stroke-linecap:butt;stroke-linejoin:miter;stroke-opacity:1\"/>\n<path class=\"bond-29 atom-13 atom-14\" d=\"M 215.8,102.1 L 233.7,91.7\" style=\"fill:none;fill-rule:evenodd;stroke:#000000;stroke-width:2.0px;stroke-linecap:butt;stroke-linejoin:miter;stroke-opacity:1\"/>\n<path class=\"bond-30 atom-13 atom-19\" d=\"M 214.6,108.9 L 189.0,94.1\" style=\"fill:none;fill-rule:evenodd;stroke:#000000;stroke-width:2.0px;stroke-linecap:butt;stroke-linejoin:miter;stroke-opacity:1\"/>\n<path class=\"bond-31 atom-14 atom-15\" d=\"M 240.3,94.1 L 240.2,64.4\" style=\"fill:none;fill-rule:evenodd;stroke:#000000;stroke-width:2.0px;stroke-linecap:butt;stroke-linejoin:miter;stroke-opacity:1\"/>\n<path class=\"bond-32 atom-14 atom-34\" d=\"M 240.3,94.1 L 261.5,106.3\" style=\"fill:none;fill-rule:evenodd;stroke:#000000;stroke-width:2.0px;stroke-linecap:butt;stroke-linejoin:miter;stroke-opacity:1\"/>\n<path class=\"bond-33 atom-15 atom-16\" d=\"M 240.2,64.4 L 251.1,58.1\" style=\"fill:none;fill-rule:evenodd;stroke:#000000;stroke-width:2.0px;stroke-linecap:butt;stroke-linejoin:miter;stroke-opacity:1\"/>\n<path class=\"bond-33 atom-15 atom-16\" d=\"M 251.1,58.1 L 261.9,51.8\" style=\"fill:none;fill-rule:evenodd;stroke:#7F4C19;stroke-width:2.0px;stroke-linecap:butt;stroke-linejoin:miter;stroke-opacity:1\"/>\n<path class=\"bond-34 atom-15 atom-17\" d=\"M 240.2,64.4 L 214.5,49.6\" style=\"fill:none;fill-rule:evenodd;stroke:#000000;stroke-width:2.0px;stroke-linecap:butt;stroke-linejoin:miter;stroke-opacity:1\"/>\n<path class=\"bond-34 atom-15 atom-17\" d=\"M 233.7,66.8 L 215.7,56.4\" style=\"fill:none;fill-rule:evenodd;stroke:#000000;stroke-width:2.0px;stroke-linecap:butt;stroke-linejoin:miter;stroke-opacity:1\"/>\n<path class=\"bond-35 atom-17 atom-18\" d=\"M 214.5,49.6 L 188.8,64.4\" style=\"fill:none;fill-rule:evenodd;stroke:#000000;stroke-width:2.0px;stroke-linecap:butt;stroke-linejoin:miter;stroke-opacity:1\"/>\n<path class=\"bond-36 atom-17 atom-35\" d=\"M 214.5,49.6 L 214.5,25.4\" style=\"fill:none;fill-rule:evenodd;stroke:#000000;stroke-width:2.0px;stroke-linecap:butt;stroke-linejoin:miter;stroke-opacity:1\"/>\n<path class=\"bond-37 atom-18 atom-19\" d=\"M 188.8,64.4 L 189.0,94.1\" style=\"fill:none;fill-rule:evenodd;stroke:#000000;stroke-width:2.0px;stroke-linecap:butt;stroke-linejoin:miter;stroke-opacity:1\"/>\n<path class=\"bond-37 atom-18 atom-19\" d=\"M 194.2,68.9 L 194.3,89.7\" style=\"fill:none;fill-rule:evenodd;stroke:#000000;stroke-width:2.0px;stroke-linecap:butt;stroke-linejoin:miter;stroke-opacity:1\"/>\n<path class=\"bond-38 atom-18 atom-36\" d=\"M 188.8,64.4 L 167.6,52.2\" style=\"fill:none;fill-rule:evenodd;stroke:#000000;stroke-width:2.0px;stroke-linecap:butt;stroke-linejoin:miter;stroke-opacity:1\"/>\n<path class=\"bond-39 atom-19 atom-37\" d=\"M 189.0,94.1 L 167.7,106.4\" style=\"fill:none;fill-rule:evenodd;stroke:#000000;stroke-width:2.0px;stroke-linecap:butt;stroke-linejoin:miter;stroke-opacity:1\"/>\n<path class=\"atom-0\" d=\"M 210.0 134.6 L 213.1 139.6 Q 213.4 140.1, 213.9 141.0 Q 214.4 141.9, 214.4 141.9 L 214.4 134.6 L 215.7 134.6 L 215.7 144.0 L 214.4 144.0 L 211.1 138.5 Q 210.7 137.9, 210.3 137.2 Q 209.9 136.4, 209.8 136.2 L 209.8 144.0 L 208.5 144.0 L 208.5 134.6 L 210.0 134.6 \" fill=\"#0000FF\"/>\n<path class=\"atom-2\" d=\"M 256.8 131.7 L 259.9 136.7 Q 260.2 137.2, 260.7 138.1 Q 261.2 139.0, 261.2 139.1 L 261.2 131.7 L 262.5 131.7 L 262.5 141.2 L 261.2 141.2 L 257.8 135.7 Q 257.5 135.1, 257.0 134.3 Q 256.6 133.6, 256.5 133.4 L 256.5 141.2 L 255.3 141.2 L 255.3 131.7 L 256.8 131.7 \" fill=\"#0000FF\"/>\n<path class=\"atom-4\" d=\"M 286.2 174.1 L 289.3 179.2 Q 289.6 179.6, 290.1 180.5 Q 290.6 181.4, 290.6 181.5 L 290.6 174.1 L 291.9 174.1 L 291.9 183.6 L 290.6 183.6 L 287.3 178.1 Q 286.9 177.5, 286.5 176.8 Q 286.1 176.0, 285.9 175.8 L 285.9 183.6 L 284.7 183.6 L 284.7 174.1 L 286.2 174.1 \" fill=\"#0000FF\"/>\n<path class=\"atom-6\" d=\"M 234.9 178.2 L 238.0 183.2 Q 238.3 183.7, 238.8 184.6 Q 239.3 185.5, 239.3 185.5 L 239.3 178.2 L 240.5 178.2 L 240.5 187.6 L 239.2 187.6 L 235.9 182.2 Q 235.5 181.5, 235.1 180.8 Q 234.7 180.1, 234.6 179.8 L 234.6 187.6 L 233.4 187.6 L 233.4 178.2 L 234.9 178.2 \" fill=\"#0000FF\"/>\n<path class=\"atom-12\" d=\"M 308.0 127.7 L 311.1 132.7 Q 311.4 133.2, 311.9 134.1 Q 312.4 135.0, 312.4 135.0 L 312.4 127.7 L 313.7 127.7 L 313.7 137.1 L 312.4 137.1 L 309.1 131.7 Q 308.7 131.0, 308.3 130.3 Q 307.9 129.6, 307.7 129.3 L 307.7 137.1 L 306.5 137.1 L 306.5 127.7 L 308.0 127.7 \" fill=\"#0000FF\"/>\n<path class=\"atom-16\" d=\"M 267.3 49.3 Q 268.2 49.6, 268.6 50.1 Q 269.1 50.7, 269.1 51.5 Q 269.1 52.8, 268.3 53.5 Q 267.4 54.3, 265.9 54.3 L 262.7 54.3 L 262.7 44.8 L 265.5 44.8 Q 267.1 44.8, 267.9 45.5 Q 268.7 46.1, 268.7 47.3 Q 268.7 48.8, 267.3 49.3 M 263.9 45.9 L 263.9 48.9 L 265.5 48.9 Q 266.4 48.9, 266.9 48.5 Q 267.4 48.1, 267.4 47.3 Q 267.4 45.9, 265.5 45.9 L 263.9 45.9 M 265.9 53.2 Q 266.8 53.2, 267.3 52.8 Q 267.8 52.3, 267.8 51.5 Q 267.8 50.7, 267.2 50.3 Q 266.7 49.9, 265.7 49.9 L 263.9 49.9 L 263.9 53.2 L 265.9 53.2 \" fill=\"#7F4C19\"/>\n<path class=\"atom-16\" d=\"M 271.2 47.4 L 271.4 48.4 Q 272.1 47.3, 273.3 47.3 Q 273.7 47.3, 274.2 47.4 L 274.0 48.5 Q 273.4 48.4, 273.1 48.4 Q 272.5 48.4, 272.1 48.6 Q 271.8 48.9, 271.5 49.4 L 271.5 54.3 L 270.2 54.3 L 270.2 47.4 L 271.2 47.4 \" fill=\"#7F4C19\"/>\n<path class=\"atom-20\" d=\"M 182.0 147.9 L 183.2 147.9 L 183.2 151.9 L 188.1 151.9 L 188.1 147.9 L 189.3 147.9 L 189.3 157.4 L 188.1 157.4 L 188.1 153.0 L 183.2 153.0 L 183.2 157.4 L 182.0 157.4 L 182.0 147.9 \" fill=\"#000000\"/>\n<path class=\"atom-21\" d=\"M 204.1 183.6 L 205.4 183.6 L 205.4 187.6 L 210.2 187.6 L 210.2 183.6 L 211.5 183.6 L 211.5 193.1 L 210.2 193.1 L 210.2 188.7 L 205.4 188.7 L 205.4 193.1 L 204.1 193.1 L 204.1 183.6 \" fill=\"#000000\"/>\n<path class=\"atom-22\" d=\"M 316.4 208.3 L 317.6 208.3 L 317.6 212.3 L 322.5 212.3 L 322.5 208.3 L 323.7 208.3 L 323.7 217.7 L 322.5 217.7 L 322.5 213.3 L 317.6 213.3 L 317.6 217.7 L 316.4 217.7 L 316.4 208.3 \" fill=\"#000000\"/>\n<path class=\"atom-23\" d=\"M 308.8 182.5 L 310.1 182.5 L 310.1 186.5 L 314.9 186.5 L 314.9 182.5 L 316.2 182.5 L 316.2 191.9 L 314.9 191.9 L 314.9 187.6 L 310.1 187.6 L 310.1 191.9 L 308.8 191.9 L 308.8 182.5 \" fill=\"#000000\"/>\n<path class=\"atom-24\" d=\"M 303.2 260.6 L 304.5 260.6 L 304.5 264.6 L 309.3 264.6 L 309.3 260.6 L 310.6 260.6 L 310.6 270.0 L 309.3 270.0 L 309.3 265.7 L 304.5 265.7 L 304.5 270.0 L 303.2 270.0 L 303.2 260.6 \" fill=\"#000000\"/>\n<path class=\"atom-25\" d=\"M 320.2 231.7 L 321.4 231.7 L 321.4 235.8 L 326.3 235.8 L 326.3 231.7 L 327.6 231.7 L 327.6 241.2 L 326.3 241.2 L 326.3 236.8 L 321.4 236.8 L 321.4 241.2 L 320.2 241.2 L 320.2 231.7 \" fill=\"#000000\"/>\n<path class=\"atom-26\" d=\"M 250.3 275.3 L 251.6 275.3 L 251.6 279.4 L 256.4 279.4 L 256.4 275.3 L 257.7 275.3 L 257.7 284.8 L 256.4 284.8 L 256.4 280.4 L 251.6 280.4 L 251.6 284.8 L 250.3 284.8 L 250.3 275.3 \" fill=\"#000000\"/>\n<path class=\"atom-27\" d=\"M 284.1 274.4 L 285.3 274.4 L 285.3 278.4 L 290.2 278.4 L 290.2 274.4 L 291.4 274.4 L 291.4 283.8 L 290.2 283.8 L 290.2 279.5 L 285.3 279.5 L 285.3 283.8 L 284.1 283.8 L 284.1 274.4 \" fill=\"#000000\"/>\n<path class=\"atom-28\" d=\"M 211.1 240.4 L 212.3 240.4 L 212.3 244.5 L 217.2 244.5 L 217.2 240.4 L 218.5 240.4 L 218.5 249.9 L 217.2 249.9 L 217.2 245.5 L 212.3 245.5 L 212.3 249.9 L 211.1 249.9 L 211.1 240.4 \" fill=\"#000000\"/>\n<path class=\"atom-29\" d=\"M 228.8 265.4 L 230.1 265.4 L 230.1 269.4 L 234.9 269.4 L 234.9 265.4 L 236.2 265.4 L 236.2 274.8 L 234.9 274.8 L 234.9 270.5 L 230.1 270.5 L 230.1 274.8 L 228.8 274.8 L 228.8 265.4 \" fill=\"#000000\"/>\n<path class=\"atom-30\" d=\"M 224.1 203.6 L 225.4 203.6 L 225.4 207.6 L 230.2 207.6 L 230.2 203.6 L 231.5 203.6 L 231.5 213.1 L 230.2 213.1 L 230.2 208.7 L 225.4 208.7 L 225.4 213.1 L 224.1 213.1 L 224.1 203.6 \" fill=\"#000000\"/>\n<path class=\"atom-31\" d=\"M 209.8 216.8 L 211.1 216.8 L 211.1 220.8 L 215.9 220.8 L 215.9 216.8 L 217.2 216.8 L 217.2 226.2 L 215.9 226.2 L 215.9 221.8 L 211.1 221.8 L 211.1 226.2 L 209.8 226.2 L 209.8 216.8 \" fill=\"#000000\"/>\n<path class=\"atom-32\" d=\"M 333.1 140.5 L 334.4 140.5 L 334.4 144.6 L 339.2 144.6 L 339.2 140.5 L 340.5 140.5 L 340.5 150.0 L 339.2 150.0 L 339.2 145.6 L 334.4 145.6 L 334.4 150.0 L 333.1 150.0 L 333.1 140.5 \" fill=\"#000000\"/>\n<path class=\"atom-33\" d=\"M 304.2 98.2 L 305.4 98.2 L 305.4 102.2 L 310.3 102.2 L 310.3 98.2 L 311.5 98.2 L 311.5 107.6 L 310.3 107.6 L 310.3 103.2 L 305.4 103.2 L 305.4 107.6 L 304.2 107.6 L 304.2 98.2 \" fill=\"#000000\"/>\n<path class=\"atom-34\" d=\"M 262.2 104.1 L 263.5 104.1 L 263.5 108.2 L 268.3 108.2 L 268.3 104.1 L 269.6 104.1 L 269.6 113.6 L 268.3 113.6 L 268.3 109.2 L 263.5 109.2 L 263.5 113.6 L 262.2 113.6 L 262.2 104.1 \" fill=\"#000000\"/>\n<path class=\"atom-35\" d=\"M 210.7 15.2 L 212.0 15.2 L 212.0 19.2 L 216.9 19.2 L 216.9 15.2 L 218.1 15.2 L 218.1 24.7 L 216.9 24.7 L 216.9 20.3 L 212.0 20.3 L 212.0 24.7 L 210.7 24.7 L 210.7 15.2 \" fill=\"#000000\"/>\n<path class=\"atom-36\" d=\"M 159.5 45.0 L 160.8 45.0 L 160.8 49.0 L 165.6 49.0 L 165.6 45.0 L 166.9 45.0 L 166.9 54.4 L 165.6 54.4 L 165.6 50.0 L 160.8 50.0 L 160.8 54.4 L 159.5 54.4 L 159.5 45.0 \" fill=\"#000000\"/>\n<path class=\"atom-37\" d=\"M 159.6 104.3 L 160.9 104.3 L 160.9 108.3 L 165.7 108.3 L 165.7 104.3 L 167.0 104.3 L 167.0 113.7 L 165.7 113.7 L 165.7 109.3 L 160.9 109.3 L 160.9 113.7 L 159.6 113.7 L 159.6 104.3 \" fill=\"#000000\"/>\n</svg>",
      "text/plain": [
       "<IPython.core.display.SVG object>"
      ]
     },
     "metadata": {},
     "output_type": "display_data"
    }
   ],
   "source": [
    "molecule"
   ]
  },
  {
   "cell_type": "code",
   "execution_count": 6,
   "metadata": {},
   "outputs": [],
   "source": [
    "import parmed\n",
    "\n",
    "omm_top = topology.to_openmm()\n",
    "chain = list(omm_top.chains())[0]\n",
    "res = list(chain.residues())[0]\n",
    "res.name = \"LIG\"\n",
    "\n",
    "# Convert OpenMM System to a ParmEd structure.\n",
    "parmed_structure = parmed.openmm.load_topology(\n",
    "    omm_top, openmm_system, molecule.conformers[0]\n",
    ")"
   ]
  },
  {
   "cell_type": "code",
   "execution_count": 7,
   "metadata": {},
   "outputs": [],
   "source": [
    "# Export GROMACS files.\n",
    "parmed_structure.save(\"system.top\", overwrite=True)\n",
    "parmed_structure.save(\"system.pdb\", overwrite=True)"
   ]
  },
  {
   "cell_type": "code",
   "execution_count": null,
   "metadata": {},
   "outputs": [],
   "source": [
    "# Export AMBER files.\n",
    "parmed_structure.save(\"system.prmtop\", overwrite=True)\n",
    "parmed_structure.save(\"system.inpcrd\", overwrite=True)\n",
    "\n",
    "# Error converting via parmed to prmtop, related to ParmEd #930 #603\n",
    "# https://github.com/openforcefield/openff-toolkit/issues/603"
   ]
  }
 ],
 "metadata": {
  "interpreter": {
   "hash": "768526840ada26f29ca9068928199872b08c3923818e93b20abf31826f7c189a"
  },
  "kernelspec": {
   "display_name": "Python 3.9.10 ('openff')",
   "language": "python",
   "name": "python3"
  },
  "language_info": {
   "codemirror_mode": {
    "name": "ipython",
    "version": 3
   },
   "file_extension": ".py",
   "mimetype": "text/x-python",
   "name": "python",
   "nbconvert_exporter": "python",
   "pygments_lexer": "ipython3",
   "version": "3.9.10"
  },
  "orig_nbformat": 4
 },
 "nbformat": 4,
 "nbformat_minor": 2
}
